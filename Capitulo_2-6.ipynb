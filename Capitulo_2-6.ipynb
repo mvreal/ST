{
 "cells": [
  {
   "cell_type": "markdown",
   "id": "1dc445f3-8f0f-41b7-a0fa-541467a1d3db",
   "metadata": {
    "id": "1dc445f3-8f0f-41b7-a0fa-541467a1d3db"
   },
   "source": [
    "### Universidade Federal do Rio Grande do Sul - UFRGS"
   ]
  },
  {
   "cell_type": "markdown",
   "id": "27d28d81-ad30-4559-b52d-0fee9ac96cae",
   "metadata": {
    "id": "27d28d81-ad30-4559-b52d-0fee9ac96cae"
   },
   "source": [
    "### Escola de Engenharia - EE"
   ]
  },
  {
   "cell_type": "markdown",
   "id": "103a5401-6849-4ee0-a254-08a7f684a870",
   "metadata": {
    "id": "103a5401-6849-4ee0-a254-08a7f684a870"
   },
   "source": [
    "### Programa de Pós-graduação em Engenharia Civil - PPGEC"
   ]
  },
  {
   "cell_type": "markdown",
   "id": "547b79f5-d7a3-4b02-8ce9-7c1647bff36b",
   "metadata": {
    "id": "547b79f5-d7a3-4b02-8ce9-7c1647bff36b"
   },
   "source": [
    "### Disciplina: Tópicos avançados em concreto - PEC00013"
   ]
  },
  {
   "cell_type": "markdown",
   "id": "189e93bb-f3e5-4536-9aec-d09046d6929b",
   "metadata": {
    "id": "189e93bb-f3e5-4536-9aec-d09046d6929b"
   },
   "source": [
    "### Professor: Dr. Mauro de Vasconcellos Real"
   ]
  },
  {
   "cell_type": "markdown",
   "id": "9187878f-2f69-43a6-9e66-d91991265288",
   "metadata": {},
   "source": [
    "# __Aula 04__"
   ]
  },
  {
   "cell_type": "markdown",
   "id": "ce78f794-4773-4210-bf0c-d89fd0e707f7",
   "metadata": {
    "id": "ce78f794-4773-4210-bf0c-d89fd0e707f7"
   },
   "source": [
    "# __Capítulo 2 - Desenvolvimento dos modelos de bielas e tirantes__ <a name=\"section_2\"></a>"
   ]
  },
  {
   "cell_type": "markdown",
   "id": "a8a51f34",
   "metadata": {},
   "source": [
    "## 2.6 - Estudo comparativo entre diversas normas internacionais\n",
    "\n",
    "* Neste item, apresenta-se um comparativo entre as tensões limites para o concreto nas bielas e nós, de acordo com as normas NBR-6118:2023, Eurocode-2023, Código Modelo fib-2010 e a norma americana ACI-318:2019."
   ]
  },
  {
   "cell_type": "markdown",
   "id": "157432c3-c6ac-4105-b5b2-45e3ad381233",
   "metadata": {
    "id": "157432c3-c6ac-4105-b5b2-45e3ad381233"
   },
   "source": [
    "### 2.6.1 NBR-6118:2023"
   ]
  },
  {
   "cell_type": "markdown",
   "id": "f73cd49d",
   "metadata": {},
   "source": [
    "* A norma brasileira NBR-6118:2023, \"Projeto de estruturas de concreto\", estabelece no seu item 22.1 as seguintes definições:\n",
    "\n",
    "* $f_{cd1}$ - tensão resistente máxima no concreto, em verificações pelo  método das bielas e tirantes, em regiões com tensões de compressão transversal ou sem tensões de tração transversal e em nós onde confluem somentes bielas de compressão (nós CCC);\n",
    "\n",
    "* $f_{cd2}$ - tensão resistente máxima no concreto, em verificações pelo  método das bielas e tirantes, em regiões com tensões de tração transversal ou em nós onde confluem dois ou mais tirantes tracionados (nós CTT ou TTT);\n",
    "\n",
    "* $f_{cd3}$ - tensão resistente máxima no concreto, em verificações pelo  método das bielas e tirantes, em regiões com tensões de tração transversal ou em nós onde conflui um tirante tracionado (nós CCT)."
   ]
  },
  {
   "cell_type": "markdown",
   "id": "b013f8b8",
   "metadata": {},
   "source": [
    "* Em seu item 22.3.2, a NBR-6118:2023 fornece os parâmetros de resistência de cálculo das bielas e regiões nodais.\n",
    "* Para a verificação de tensões de compressão máximas nas bielas e regiões nodais devem ser empregados os seguintes parâmetros de cálculo:\n",
    "\n",
    "* $f_{cd1} = 0,85 \\alpha_{v2} f_{cd}$ (bielas prismáticas ou nós CCC);\n",
    "\n",
    "* $f_{cd2} = 0,60 \\alpha_{v2} f_{cd}$ (bielas atravesssadas por mais de um tirante, ou nós CTT ou TTT);\n",
    "\n",
    "* $f_{cd1} = 0,72 \\alpha_{v2} f_{cd}$ (bielas atravessadas por tirante único, ou nós CCT).\n",
    "\n",
    "* Nas equações acima:\n",
    "\n",
    "$$ \\alpha_{v2} = 1 - \\frac{f_{ck}}{250}$$\n",
    "\n",
    "onde $f_{ck}$ entra em MPa, e \n",
    "\n",
    "$$f_{cd}= \\frac{f_{ck}}{\\gamma_c}$$\n",
    "\n",
    "onde $\\gamma_c = 1,4$, nos casos usuais."
   ]
  },
  {
   "cell_type": "markdown",
   "id": "152cc7e7",
   "metadata": {},
   "source": [
    "### 2.6.2 - Eurocode - 2023"
   ]
  },
  {
   "cell_type": "markdown",
   "id": "2c1f17c5",
   "metadata": {},
   "source": [
    "### 2.6.3 - Código Modelo fib-2010"
   ]
  },
  {
   "cell_type": "markdown",
   "id": "f2f917a9-9329-465e-8b58-b8da595961c7",
   "metadata": {
    "id": "f2f917a9-9329-465e-8b58-b8da595961c7"
   },
   "source": [
    "### 2.6.4 - ACI-318:2019"
   ]
  },
  {
   "cell_type": "markdown",
   "id": "4687fbb6",
   "metadata": {},
   "source": [
    "### 2.6.5 - Estudo comparativo das tensões máximas no concreto entre as diversas normas\n"
   ]
  }
 ],
 "metadata": {
  "colab": {
   "name": "Capítulo_1.ipynb",
   "provenance": []
  },
  "kernelspec": {
   "display_name": "Python 3 (ipykernel)",
   "language": "python",
   "name": "python3"
  },
  "language_info": {
   "codemirror_mode": {
    "name": "ipython",
    "version": 3
   },
   "file_extension": ".py",
   "mimetype": "text/x-python",
   "name": "python",
   "nbconvert_exporter": "python",
   "pygments_lexer": "ipython3",
   "version": "3.10.9"
  }
 },
 "nbformat": 4,
 "nbformat_minor": 5
}
