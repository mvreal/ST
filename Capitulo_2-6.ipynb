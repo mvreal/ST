{
 "cells": [
  {
   "cell_type": "markdown",
   "id": "1dc445f3-8f0f-41b7-a0fa-541467a1d3db",
   "metadata": {
    "id": "1dc445f3-8f0f-41b7-a0fa-541467a1d3db"
   },
   "source": [
    "### Universidade Federal do Rio Grande do Sul - UFRGS"
   ]
  },
  {
   "cell_type": "markdown",
   "id": "27d28d81-ad30-4559-b52d-0fee9ac96cae",
   "metadata": {
    "id": "27d28d81-ad30-4559-b52d-0fee9ac96cae"
   },
   "source": [
    "### Escola de Engenharia - EE"
   ]
  },
  {
   "cell_type": "markdown",
   "id": "103a5401-6849-4ee0-a254-08a7f684a870",
   "metadata": {
    "id": "103a5401-6849-4ee0-a254-08a7f684a870"
   },
   "source": [
    "### Programa de Pós-graduação em Engenharia Civil - PPGEC"
   ]
  },
  {
   "cell_type": "markdown",
   "id": "547b79f5-d7a3-4b02-8ce9-7c1647bff36b",
   "metadata": {
    "id": "547b79f5-d7a3-4b02-8ce9-7c1647bff36b"
   },
   "source": [
    "### Disciplina: Tópicos avançados em concreto - PEC00013"
   ]
  },
  {
   "cell_type": "markdown",
   "id": "189e93bb-f3e5-4536-9aec-d09046d6929b",
   "metadata": {
    "id": "189e93bb-f3e5-4536-9aec-d09046d6929b"
   },
   "source": [
    "### Professor: Dr. Mauro de Vasconcellos Real"
   ]
  },
  {
   "cell_type": "markdown",
   "id": "9187878f-2f69-43a6-9e66-d91991265288",
   "metadata": {},
   "source": [
    "# __Aula 04__"
   ]
  },
  {
   "cell_type": "markdown",
   "id": "ce78f794-4773-4210-bf0c-d89fd0e707f7",
   "metadata": {
    "id": "ce78f794-4773-4210-bf0c-d89fd0e707f7"
   },
   "source": [
    "# __Capítulo 2 - Desenvolvimento dos modelos de bielas e tirantes__ <a name=\"section_2\"></a>"
   ]
  },
  {
   "cell_type": "markdown",
   "id": "a8a51f34",
   "metadata": {},
   "source": [
    "## 2.6 - Estudo comparativo entre diversas normas internacionais\n",
    "\n",
    "* Neste item, apresenta-se um comparativo entre as tensões limites para o concreto nas bielas e nós, de acordo com as normas NBR-6118:2023, Eurocode-2023, Código Modelo fib-2010 e a norma americana ACI-318:2019."
   ]
  },
  {
   "cell_type": "markdown",
   "id": "157432c3-c6ac-4105-b5b2-45e3ad381233",
   "metadata": {
    "id": "157432c3-c6ac-4105-b5b2-45e3ad381233"
   },
   "source": [
    "### 2.6.1 NBR-6118:2023"
   ]
  },
  {
   "cell_type": "markdown",
   "id": "2c6d70ab",
   "metadata": {},
   "source": [
    "* A Figura 2.18 apresenta os tipos de nós em modelos de bielas e tirantes, com base nos quais a norma brasileira estabelece os limites de resistência à compressão do concreto.\n",
    "\n",
    "Figura 2.18 - Classificação dos nós em modelos de bielas e tirantes:(a) CCC, (b) CCT, (c) CTT\n",
    "\n",
    "<img src=\"./images2/tipos-de-nós-ACI.jpg\" alt=\"classificação dos nós ACI-318\" style=\"width:600px\"/>\n",
    "\n",
    "<font size=\"-1\">Fonte: AMERICAN CONCRETE INSTITUTE. Building Code Requirements for Structural Concrete (ACI 318-19). Farmington Hills: ACI, 2019.(adaptada)</font>\n"
   ]
  },
  {
   "cell_type": "markdown",
   "id": "f73cd49d",
   "metadata": {},
   "source": [
    "* A norma brasileira NBR-6118:2023, \"Projeto de estruturas de concreto\", estabelece no seu item 22.1 as seguintes definições:\n",
    "\n",
    "* $f_{cd1}$ - tensão resistente máxima no concreto, em verificações pelo  método das bielas e tirantes, em regiões com tensões de compressão transversal ou sem tensões de tração transversal e em nós onde confluem somentes bielas de compressão (nós CCC);\n",
    "\n",
    "* $f_{cd2}$ - tensão resistente máxima no concreto, em verificações pelo  método das bielas e tirantes, em regiões com tensões de tração transversal ou em nós onde confluem dois ou mais tirantes tracionados (nós CTT ou TTT);\n",
    "\n",
    "* $f_{cd3}$ - tensão resistente máxima no concreto, em verificações pelo  método das bielas e tirantes, em regiões com tensões de tração transversal ou em nós onde conflui um tirante tracionado (nós CCT)."
   ]
  },
  {
   "cell_type": "markdown",
   "id": "b013f8b8",
   "metadata": {},
   "source": [
    "* Em seu item 22.3.2, a NBR-6118:2023 fornece os parâmetros de resistência de cálculo das bielas e regiões nodais, portanto as tensões limites valem tanto para nós como para bielas comprimidas.\n",
    "* Para a verificação de tensões de compressão máximas nas bielas e regiões nodais devem ser empregados os seguintes parâmetros de cálculo:\n",
    "\n",
    "* $f_{cd1} = 0,85 \\alpha_{v2} f_{cd}$ (bielas prismáticas ou nós CCC);\n",
    "\n",
    "* $f_{cd2} = 0,60 \\alpha_{v2} f_{cd}$ (bielas atravesssadas por mais de um tirante, ou nós CTT ou TTT);\n",
    "\n",
    "* $f_{cd1} = 0,72 \\alpha_{v2} f_{cd}$ (bielas atravessadas por tirante único, ou nós CCT).\n",
    "\n",
    "* Nas equações acima:\n",
    "\n",
    "$$ \\alpha_{v2} = 1 - \\frac{f_{ck}}{250}$$\n",
    "\n",
    "onde $f_{ck}$ entra em MPa, e \n",
    "\n",
    "$$f_{cd}= \\frac{f_{ck}}{\\gamma_c}$$\n",
    "\n",
    "onde $\\gamma_c = 1,4$, nos casos usuais."
   ]
  },
  {
   "cell_type": "markdown",
   "id": "152cc7e7",
   "metadata": {},
   "source": [
    "### 2.6.2 - Eurocode - 2023"
   ]
  },
  {
   "cell_type": "markdown",
   "id": "8469a699",
   "metadata": {},
   "source": [
    "#### Resistência à compressão de cálculo do concreto"
   ]
  },
  {
   "cell_type": "markdown",
   "id": "6c4c4a6c",
   "metadata": {},
   "source": [
    "* No Eurocode 2023, no seu item 5.1.6, a resistência de cálculo à compressão do concreto é definada por:\n",
    "\n",
    "$$f_{cd} = \\eta_{cc} k_{tc} \\frac{f_{ck}}{\\gamma_c}$$\n",
    "\n",
    "onde:\n",
    "\n",
    "$\\eta_{cc}$  é um fator que leva em conta a diferença entre a resistência entre a resistência não perturbada em um cilindro e a resistência à compressão \n",
    "             efetiva que pode ser desenvolvida em um elemento estrutural, que é dado por:\n",
    "\n",
    "$$ \\eta_{cc} = \\left(\\frac{f_{ck,ref}}{f_{ck}}\\right)^{\\frac{1}{3}}$$\n",
    "\n",
    "sendo:\n",
    "\n",
    "$f_{ck,ref} = 40 MPa$;\n",
    "\n",
    "$k_{tc} = 1,00$ for $t_{ref} \\leq 28$ dias para concretos com classes CR e CN e $t_{ref} \\leq 56$ dias para concretos de classe CS, quando a carga de projeto na é esperada antes de um prazo de pelo menos 3 meses após a concretagem;\n",
    "\n",
    "$k_{tc} = 0,85$ nos outros casos incluindo as situações em que $f_{ck}$ é substituído por $f_{ck}(t)$.\n",
    "\n",
    "$\\gamma_c = 1,5$ nos casos usuais.\n",
    "\n",
    "* Observe-se que a definição de $f_{cd}$ é diferente da norma brasileira NBR-6118:2023, pois o Eurocode 2023 inclui os fatorer $\\eta_{cc}$ e $k_{tc}$ em na determinação da resistência de cálculo do concreto à compressão, além de usar $\\gamma_c = 1,5$.\n"
   ]
  },
  {
   "cell_type": "markdown",
   "id": "0cedcba0",
   "metadata": {},
   "source": [
    "#### Tensões limites para bielas e campos de compressão"
   ]
  },
  {
   "cell_type": "markdown",
   "id": "1e1d9ff8",
   "metadata": {},
   "source": [
    "* No item 8.5.2 são estabelecidas as tensões limites nas bielas comprimidas.\n",
    "\n",
    "* As tensões nas bielas comprimidas e nos campos de compressão podem ser admitidas como uniformemente distribuídas sobre sua seção transversal, podendo ser calculadas através de:\n",
    "\n",
    "$$\\sigma_{cd} = \\frac{|{F_{cd}|}}{b_c . t}$$\n",
    "\n",
    "onde:\n",
    "\n",
    "$F_{cd}$ é a força normal de compressão do concreto na biela;\n",
    "\n",
    "$t$ é a espessura da biela comprimida, que pode ser limitada pela espessura do elemento;\n",
    "\n",
    "$b_c$ é a largura da biela na posição considerada."
   ]
  },
  {
   "cell_type": "markdown",
   "id": "7d689f54",
   "metadata": {},
   "source": [
    "* A tensão normal de compressão de cálculo $\\sigma_{cd}$ em uma biela ou em uma campo de compressão no concreto deve satisfazer a seguinte condição:\n",
    "\n",
    "$$\\sigma_{cd} \\leq \\nu f_{cd}$$\n",
    "\n",
    "onde $\\nu$ é um fator de redução de resistência\n",
    "\n",
    "* O fator $\\nu$ pode ser determinado como uma função do menor ângulo $\\theta_{cs}$ entre a biela que representa a resultante do campo de compressão e qualquer dos tirantes que atravessam a biela, conforme ilustrado pela Figura 2.19:\n",
    "\n",
    "Figura 2.19 - Ângulo $\\theta_{cs}$ entre a biela ou campo de compressão e o tirante.\n",
    "\n",
    "<img src=\"./images2/ângulo-biela-tirante.jpg\" alt=\"ângulo entre a biela e o tirante\" style=\"width:600px\"/>\n",
    "\n",
    "<font size=\"-1\">Fonte: EUROPEAN COMMITTEE FOR STANDARDIZATION. Eurocode 2: Design of Concrete Structures - Part 1-1: General Rules and Rules for Buildings. Brussels: CEN, 2023.(adaptada)</font>\n",
    "\n",
    "(a) para campos de compressão e bielas atravessadas ou desviadas por um tirante em um ângulo:\n",
    "\n",
    "- $20^\\circ \\leq \\theta_{cs} \\lt 30^\\circ  \\quad \\quad \\nu = 0,4$\n",
    "\n",
    "- $30^\\circ \\leq \\theta_{cs} \\lt 40^\\circ  \\quad \\quad \\nu = 0,55$\n",
    "\n",
    "- $40^\\circ \\leq \\theta_{cs} \\lt 60^\\circ  \\quad \\quad \\nu = 0,7$\n",
    "\n",
    "- $60^\\circ \\leq \\theta_{cs} \\lt 90^\\circ  \\quad \\quad \\nu = 0,85$\n",
    "\n",
    "Alternativamente, o valor do fator $\\nu$ pode ser determinado como:\n",
    "\n",
    "$$\\nu = \\frac{1}{1,11 + 0,22.cot^2\\theta_{cs}}$$\n",
    "\n",
    "(b) para campos de compressão e bielas em uma região sem fissuração transversal (por exemplo, quando tensões de compressão transversais estão presentes):\n",
    "\n",
    "$$ \\nu = 1,0$$\n",
    "\n"
   ]
  },
  {
   "cell_type": "markdown",
   "id": "7890105f",
   "metadata": {},
   "source": [
    "#### Tensões limites para os nós"
   ]
  },
  {
   "cell_type": "markdown",
   "id": "a629f787",
   "metadata": {},
   "source": [
    "* Para a verificação das tensões nos nós o valor da tensão limite para o concreto depende da classificação do nó, conforme o item 8.5.4.\n",
    "\n",
    "* Nó do tipo CCC:\n",
    "\n",
    "(1) Em nós do tipo CCC, a verificação do estado de tensões dentro da região nodal pode ser omitida se todas as bielas convergentes no nó respeitam as respectivas tensões limites.\n",
    "\n",
    "(2) O valor do coeficiente $\\nu$ nas extremidades das bielas convergentes pode ser tomado como igual a $1,00$, ou aumentado conforme as recomendações do item 8.1.4 ou do item 8.6. A largura das bielas $b_c$ pode ser adaptada, para que as tensões normais sejam idênticas, conforme a Figura 2.20(a). No caso de as bielas convergentes no nó terem tensões diferentes, a geometria do nó pode ser adaptada de acordo com a Figura 2.20(b).\n",
    "\n",
    "Figura 2.20 - Geometria e tensões em um nó do tipo CCC.\n",
    "\n",
    "<img src=\"./images2/nó-CCC.jpg\" alt=\"nó CCC\" style=\"width:600px\"/>\n",
    "\n",
    "<font size=\"-1\">Fonte: EUROPEAN COMMITTEE FOR STANDARDIZATION. Eurocode 2: Design of Concrete Structures - Part 1-1: General Rules and Rules for Buildings. Brussels: CEN, 2023.(adaptada)</font>"
   ]
  },
  {
   "cell_type": "markdown",
   "id": "d8302ca6",
   "metadata": {},
   "source": [
    "* Nó do tipo CCT:\n",
    "\n",
    "(1) A força normal de tração $F_{2d}$ mostrada na Figura 2.21(a) deve ser ancorada:\n",
    "\n",
    "- fora da região nodal conforme a Figura 2.21(b); ou\n",
    "\n",
    "- parcialmente ou completamente dentro da região nodal de acordo com a Figura 2.21(c), (d) e (e).\n",
    "\n",
    "(2) O valor do coeficiente $\\nu$ em nós do tipo CCT pode ser tomado como igual:\n",
    "\n",
    "- ao mesmo valor adotado para a biela que concorre ao nó, no caso em que o tirante é ancorado completamente dentro da região nodal, conforme mostrado na Figura 2.21(c) (caso em que $l_{bdn}=l_{bd}$).\n",
    "\n",
    "- $\\nu = 1,0$ no caso em que o tirante é ancorado completamente fora da região nodal como indicado na Figura 2.21(b), (d) e (e).\n",
    "\n",
    "- uma interpolação linear entre os valores anteriores pode ser realizada dependendo da razão entre o comprimento de ancoragem necessário fora da região nodal e o comprimento de ancoragem total necessário.\n",
    "\n",
    "Figura 2.21 - Geometria e tensões em um nó do tipo CCT:(a) modelo de bielas e tirantes, (b) com ancoragem fora da região nodal, (c) ancoragem parcialmente dentro da região nodal, (d) exemplo de ancoragem usando placas de ancoragem fora da região nodal, (e) exemplo de ancoragem usando laços fora da região nodal.\n",
    "\n",
    "<img src=\"./images2/nó-CCT.jpg\" alt=\"nó CCT\" style=\"width:600px\"/>\n",
    "\n",
    "<font size=\"-1\">Fonte: EUROPEAN COMMITTEE FOR STANDARDIZATION. Eurocode 2: Design of Concrete Structures - Part 1-1: General Rules and Rules for Buildings. Brussels: CEN, 2023.(adaptada)</font>"
   ]
  },
  {
   "cell_type": "markdown",
   "id": "1ff56145",
   "metadata": {},
   "source": [
    "* Nó do tipo CTT:\n",
    "\n",
    "(1) Os nós do tipo CTT (Figura 2.22) devem ser projetados de acordo com uma das seguintes alternativas:\n",
    "\n",
    "- com barras dobradas como mostrado  na Figura 2.22(b);\n",
    "\n",
    "- com ancoragens fora da região nodal como indicado na Figura 2.22(c), ou parcialmente dentro da região nodal de maneira similar ao que é apresentado na Figura 2.22(c);\n",
    "\n",
    "- com barras retas dentro da região nodal como mostra a Figura 2.22(d).\n",
    "\n",
    "(2) O valor do coeficiente $\\nu$ em nós do tipo CTT pode ser tomado como igual:\n",
    "\n",
    "- ao mesmo valor adotado para a biela que concorre ao nó, quando são usadas barras dobradas como mostrado na Figura 2.22(b), desde que respeitados os raios mínimos de dobramento, ou no caso em que o tirante é ancorado completamente dentro da região nodal, conforme mostrado na Figura 2.22(d);\n",
    "\n",
    "- $\\nu = 1,0$ no caso em que o tirante é ancorado completamente fora da região nodal como indicado na Figura 2.22(c).\n",
    "\n",
    "\n",
    "Figura 2.22 - Geometria e tensões em um nó do tipo CTT:(a) modelo de bielas e tirantes e equilíbrio de forças, (b) modelo de bielas e tirantes e campo de tensões para a força de desvio de uma barra dobrada, (c) modelo de bielas e tirantes e campo de tensões para ancoragem fora do nó, (d) modelo de bielas e tirantes e campo de tensões para ancoragem dentro do nó com desvio de direção por aderência.\n",
    "\n",
    "<img src=\"./images2/nó-CTT.jpg\" alt=\"nó CCT\" style=\"width:600px\"/>\n",
    "\n",
    "<font size=\"-1\">Fonte: EUROPEAN COMMITTEE FOR STANDARDIZATION. Eurocode 2: Design of Concrete Structures - Part 1-1: General Rules and Rules for Buildings. Brussels: CEN, 2023.(adaptada)</font>"
   ]
  },
  {
   "cell_type": "markdown",
   "id": "2c1f17c5",
   "metadata": {},
   "source": [
    "### 2.6.3 - Código Modelo fib-2010"
   ]
  },
  {
   "cell_type": "markdown",
   "id": "a228b76d",
   "metadata": {},
   "source": [
    "#### Tensões limites para bielas ou campos de compressão de concreto"
   ]
  },
  {
   "cell_type": "markdown",
   "id": "04edaa61",
   "metadata": {},
   "source": [
    "* Para o dimensionamento de bielas ou campos de compressão a resistência reduzida do concreto à compressão $k_c f_{ck} / \\gamma_c$ deve ser utilizada.\n",
    "\n",
    "* Observe-se que, para os casos usuais, o Código Modelo fib-2010 recomenda adotar $\\gamma_c = 1,5$."
   ]
  },
  {
   "cell_type": "markdown",
   "id": "76645190",
   "metadata": {},
   "source": [
    "* A escolha do fator redutor $k_c$ depende do estado de tensões ao qual o concreto está submetido, conforme é ilustrado pela Figura 2.23."
   ]
  },
  {
   "cell_type": "markdown",
   "id": "52084048",
   "metadata": {},
   "source": [
    "Figura 2.23 - Diversos estados de tensão em um elemento de concreto: (a) compressão uniaxial não perturbada, (b) tração normal à direção de compressão, (c) tração oblíqua à direção de compressão."
   ]
  },
  {
   "cell_type": "markdown",
   "id": "8e855bf4",
   "metadata": {},
   "source": [
    "<img src=\"./images2/estados-de-tensão.jpg\" alt=\"estados de tensão do concreto\" style=\"width:600px\"/>"
   ]
  },
  {
   "cell_type": "markdown",
   "id": "ba749707",
   "metadata": {},
   "source": [
    "<font size=\"-1\">Fonte: FÉDÉRATION INTERNATIONALE DU BÉTON (fib). Model Code 2010. Lausanne: fib, 2010.(adaptada)</font>"
   ]
  },
  {
   "cell_type": "markdown",
   "id": "68287277",
   "metadata": {},
   "source": [
    "* Para estados de tensão de compressão uniaxial não perturbada e para regiões com compressão transversal o fator de redução é dado por:\n",
    "\n",
    "$$k_c = 1,0 \\eta_{fc}$$"
   ]
  },
  {
   "cell_type": "markdown",
   "id": "dcaf0e60",
   "metadata": {},
   "source": [
    "* Para estados de tensão com fissuras paralelas à direção de compressão e armadura de tração perpendicular às fissuras o fator de redução é dado por:\n",
    "$$ k_c = 0,75 \\eta_{fc}$$"
   ]
  },
  {
   "cell_type": "markdown",
   "id": "7a1941f5",
   "metadata": {},
   "source": [
    "* Para bielas ou campos de tensão com armaduras dispostas de forma oblíqua (com ângulos menores que $65^\\circ$) à direção de compressão, como por exemplo na alma de vigas sob esforço cortante, o fator de redução é dado por:\n",
    "$$ k_c = 0,55 \\eta_{fc}$$"
   ]
  },
  {
   "cell_type": "markdown",
   "id": "b6c579fd",
   "metadata": {},
   "source": [
    "* O fator $\\eta_{fc}$, definido no item 7.3.3.4 do Código Modelo fib-2010, é obtido através da expressão:\n",
    "$$\\eta_{fc} = \\left( \\frac{30}{f_{ck}}\\right)^{1/3} \\leq 1,00$$\n",
    "com $f_{ck}$ em MPa."
   ]
  },
  {
   "cell_type": "markdown",
   "id": "d06cc47f",
   "metadata": {},
   "source": [
    "* Os valores de cálculo da tensão limite de compressão para o concreto podem ser majorados em 10%, quando um estado de tensão biaxial de compressão for assegurado, ou todos os ângulos entre bielas e tirantes forem superiores a $45^\\circ$ e quando a armadura for disposta em múltiplas camadas."
   ]
  },
  {
   "cell_type": "markdown",
   "id": "dd44ef5b",
   "metadata": {},
   "source": [
    "#### Tensões limites para o nós"
   ]
  },
  {
   "cell_type": "markdown",
   "id": "5d9b7131",
   "metadata": {},
   "source": [
    "* A máxima tensão normal de compressão aplicada ao bordo de um nó é dada por:\n",
    "$$\\sigma_{Rd,max} = k_c \\frac{f_{ck}}{\\gamma_c}$$"
   ]
  },
  {
   "cell_type": "markdown",
   "id": "35759ce8",
   "metadata": {},
   "source": [
    "* Para nós comprimidos onde nenhum tirante é ancorado, como mostrado na Figura 2.24, o fator de redução é o mesmo recomendado para uma biela em compressão unixial não perturbada, isto é,\n",
    "$$k_c = 1,0 \\eta_{fc}$$"
   ]
  },
  {
   "cell_type": "markdown",
   "id": "3aa464da",
   "metadata": {},
   "source": [
    "Figura 2.24 - Nó em estado de tensão de compressão sem tirantes."
   ]
  },
  {
   "cell_type": "markdown",
   "id": "a0b08d27",
   "metadata": {},
   "source": [
    "<img src=\"./images2/nó-comprimido.jpg\" alt=\"nó sob compressão\" style=\"width:300px\"/>"
   ]
  },
  {
   "cell_type": "markdown",
   "id": "23aa7b2d",
   "metadata": {},
   "source": [
    "<font size=\"-1\">Fonte: FÉDÉRATION INTERNATIONALE DU BÉTON (fib). Model Code 2010. Lausanne: fib, 2010.(adaptada)</font>"
   ]
  },
  {
   "cell_type": "markdown",
   "id": "349ade99",
   "metadata": {},
   "source": [
    "* Um valor de $1,1 \\eta_{fc}$ pode ser admitido em regiões onde uma compressão biaxial significativa existir. Esta majoração também se aplica  se as tensões nos apoios ou cargas concentradas forem uniformemente distribuídas e o nó estiver confinado por estribos e se o nó for confinado de forma confiável por aparelhos de apoio ou atrito."
   ]
  },
  {
   "cell_type": "markdown",
   "id": "28419d82",
   "metadata": {},
   "source": [
    "* Para nós em um estado de tensão de compressão-tração com tirantes ancorados e dispostos em uma ou duas direções, conforme ilustrado na Figura 2.25, o fator de redução é o mesmo que o adotado para uma biela com com fissuras paralelas à direção de compressão e armadura de tração perpendicular às fissuras, ou seja:\n",
    "$$ k_c = 0,75 \\eta_{fc}$$"
   ]
  },
  {
   "cell_type": "markdown",
   "id": "59a36a80",
   "metadata": {},
   "source": [
    "Figura 2.25 - Nós em estado de tensão compressão-tração."
   ]
  },
  {
   "cell_type": "markdown",
   "id": "076f7c60",
   "metadata": {},
   "source": [
    "<img src=\"./images2/nó-compressão-tração.jpg\" alt=\"nó sob compressão-tração\" style=\"width:600px\"/>"
   ]
  },
  {
   "cell_type": "markdown",
   "id": "6569c291",
   "metadata": {},
   "source": [
    "<font size=\"-1\">Fonte: FÉDÉRATION INTERNATIONALE DU BÉTON (fib). Model Code 2010. Lausanne: fib, 2010.(adaptada)</font>"
   ]
  },
  {
   "cell_type": "markdown",
   "id": "b8dc2239",
   "metadata": {},
   "source": [
    "* A ancoragem das barras de armadura em nós de compressão-tração se inicia  na borda do nó, Figura 2.23, por exemplo no caso de uma ancoragem de apoio iniciando em sua face interior. O comprimento de ancoragem deve se estender ao longo de toda a extensão do nó."
   ]
  },
  {
   "cell_type": "markdown",
   "id": "9dd62038",
   "metadata": {},
   "source": [
    "* A ancoragem das barras de armadura atrás do nó é fortemente recomendada em casos onde as dimensões do elemento estrutural são suficientes. Este tipo de ancoragem é benéfica porque cria um estado de compressão pura no nó."
   ]
  },
  {
   "cell_type": "markdown",
   "id": "f2f917a9-9329-465e-8b58-b8da595961c7",
   "metadata": {
    "id": "f2f917a9-9329-465e-8b58-b8da595961c7"
   },
   "source": [
    "### 2.6.4 - ACI-318:2019"
   ]
  },
  {
   "cell_type": "markdown",
   "id": "9a9abcad",
   "metadata": {},
   "source": [
    "* A norma americana ACI-318:2019 estabelece em seu Capítulo 23 as recomendações para o projeto de estruturas a partir do método das bielas e tirantes."
   ]
  },
  {
   "cell_type": "markdown",
   "id": "36feef42",
   "metadata": {},
   "source": [
    "* A força normal normal última,$F_{us}$, ou seja de cálculo, em uma biela será dada por:\n",
    "$$F_{us} \\leq \\phi F_{ns}$$\n",
    "\n",
    "onde: \n",
    "\n",
    "$\\phi$ é o fator de redução de resistência que vale $0,75$ para elementos comprimidos;\n",
    "\n",
    "$F_{ns}$ é a força normal resistente nominal da biela, dada por:\n",
    "\n",
    "$$ F_{ns} = f_{ce} A_{cs}$$\n",
    "\n",
    "onde:\n",
    "\n",
    "$f_{ce}$ é a resistência à compressão efetiva da biela;\n",
    "\n",
    "$A_{cs}$ é a área da seção transversal da biela."
   ]
  },
  {
   "cell_type": "markdown",
   "id": "33e5183a",
   "metadata": {},
   "source": [
    "* A partir do exposto acima, tem-se que a tensão normal resistente de cálculo segundo a norma ACI-318:2019 será dada por:\n",
    "$$\\sigma_{Rd,max} = \\frac{F_{us}}{A_{cs}}=\\phi f_{ce}$$"
   ]
  },
  {
   "cell_type": "markdown",
   "id": "d75f753b",
   "metadata": {},
   "source": [
    "#### Tensões limites para bielas ou campos de compressão de concreto"
   ]
  },
  {
   "cell_type": "markdown",
   "id": "3422dbca",
   "metadata": {},
   "source": [
    "* Em seu item 23.4.3, a norma americana ACI-318:2019 determina que a resistência à compressão efetiva do concreto em uma biela comprimida deve ser calculada a partir da expressão:\n",
    "$$f_{ce} = 0,85 \\beta_c \\beta_s f_c^{\\prime}$$\n",
    "\n",
    "* Os valores para os coeficientes para bielas, $\\beta_s$, são fornecidos pela Tabela 23.4.3(a), cujo conteúdo é resumido na Tabela 2.1.\n",
    "\n",
    "Tabela 2.1 - Coeficiente de Biela ($\\beta_s$) \n",
    "| Configuração da biela de concreto | $\\beta_s$ |\n",
    "|-----------------------------------|-----------|\n",
    "| Para bielas em elementos tracionados ou na zona tracionada de um elemento | $0,40$ |\n",
    "| Para bielas comprimidas localizadas junto ao contorno do elemento estrutural | $1,00$ |\n",
    "| Para bielas comprimidas localizadas no interior do elemento estrutural | $0,75$ |\n",
    "| Para bielas situadas na ligação entre viga e pilar | $0,75$ |\n",
    "| Nos demais casos | $0,40$ |\n",
    "\n",
    "* Os valores para os coeficientes de modificação de confinamento para bielas e nós, $\\beta_c$, são apresentados pela Tabela 23.4.3(b), cujos valores são sintetizados abaixo na Tabela 2.2:\n",
    "\n",
    "Tabela 2.2 - Coeficiente de modificação de confinamento ($\\beta_s$) \n",
    "|Situação quanto ao confinamento do concreto |\n",
    "|----------------------------------|\n",
    "| Para a extremidade de uma biela conectada a um nó que inclui uma superfície de apoio ou para um nó que contém uma superfície de apoio, adota-se para $\\beta_s$ o menor entre os dois valores: (a) $ \\sqrt{A_2 / A_1}$,  onde $A_1$ é a área da superfície de apoio; (b) $2,0$.|\n",
    "| Nos demais casos, onde não há garantia de confinamento, utiliza-se $\\beta_c = 1,0$|"
   ]
  },
  {
   "cell_type": "markdown",
   "id": "11fd6bf5",
   "metadata": {},
   "source": [
    "#### Tensões limites para o nós"
   ]
  },
  {
   "cell_type": "markdown",
   "id": "1adc1cac",
   "metadata": {},
   "source": [
    "* Em seu item 23.9, a norma americana ACI-318:2019 estabelece a resistência à compressão efetiva do concreto em uma face de uma zona nodal deve ser determinada a partir da fórmula:\n",
    "$$f_{ce} = 0,85 \\beta_c \\beta_n f_c^{\\prime}$$\n",
    "\n",
    "* Os valores para os coeficientes de modificação de confinamento para bielas e nós $\\beta_c$ são apresentados pela Tabela 23.4.3(b), cujos valores são sintetizados acima na Tabela 2.2:\n",
    "\n",
    "* Os valores para os coeficientes para bielas $\\beta_n$ são fornecidos pela Tabela 23.9.2, cujo conteúdo é reproduzido na Tabela 2.3.\n",
    "\n",
    " Tabela 2.3 - Coeficiente de Zona Nodal ($\\beta_s$) \n",
    "|Configuração da Zona Nodal    |    $\\beta_s$    | \n",
    "|----------------------------------|-------------|\n",
    "| Zona nodal delimitada por bielas, superfícies de apoio, ou por ambas | $1,00$ |\n",
    "| Zona nodal ancorando um tirante | $0,80$ |\n",
    "| Zona nodal ancorando dois ou mais tirantes |$0,60$ |\n"
   ]
  },
  {
   "cell_type": "markdown",
   "id": "4687fbb6",
   "metadata": {},
   "source": [
    "### 2.6.5 - Estudo comparativo das tensões máximas no concreto entre as diversas normas\n"
   ]
  },
  {
   "cell_type": "markdown",
   "id": "e80f34b1",
   "metadata": {},
   "source": [
    "* A seguir apresenta-se gráficos comparativos entre as tensões limites de resistência para o concreto comprimido segundo as normas NBR-6118:2023, Eurocode 2023, fib-2010 e ACI:318:2019, para três tipos de nós CCC, CCT e CTT.\n",
    "\n",
    "* Observe-se que a definição da resistência nominal do concreto, $f_c^{\\prime}$.  da norma americana ACI-318:2019, não é igual a definição da resistência característica à compressão do concreto, $f_{ck}$ das demais normas.\n",
    "\n",
    "* Para fins de comparação fixou um valor para o desvio padrão da resistência à compressão do concreto, $\\sigma_{fc}$, em $ 4 MPa$.\n",
    "\n",
    "* O valor da resistência média à compressão do concreto, $f_{cm}$ pode ser estimado a partir do valor de  $f_ck$ e do desvio padrão $\\sigma_{fc}$ a partir da equação:\n",
    "\n",
    "$$f_{cm} = f_{ck} - 1,645 \\sigma_{fc}$$\n",
    "\n",
    "* O valor de $f_{cm} pode ser tomado igual a $f_{cr}^{\\prime}$ da norma americana ACI:318:2019, pois corresponde à resistência média à compressão do concreto.\n",
    "\n",
    "* Então, de acordo com a norma ACI-214:2011 é possível calcular-se $f_c^{\\prime}$ a partir de $f_{cr}^{\\prime}$ utilizando-se as seguintes equações:\n",
    "\n",
    "$$f_c^{\\prime} = f_{cr}^{\\prime} - 7 MPa, \\quad \\text{para} \\quad f_c^{\\prime} \\lt 21 MPa $$\n",
    "\n",
    "$$f_c^{\\prime} = f_{cr}^{\\prime} - 8 MPa, \\quad \\text{para} \\quad 21 MPa \\lt f_c^{\\prime} \\lt 35 MPa $$\n",
    "\n",
    "$$f_c^{\\prime} = \\frac{f_{cr}^{\\prime} - 5 MPa}{1,10}, \\quad \\text{para} \\quad f_c^{\\prime} \\gt 35 MPa $$"
   ]
  },
  {
   "cell_type": "markdown",
   "id": "004dae17",
   "metadata": {},
   "source": [
    "#### Nós tipo CCC"
   ]
  },
  {
   "cell_type": "markdown",
   "id": "a1e3f433",
   "metadata": {},
   "source": [
    "* A Figura 2.26 apresenta um gráfico comparando as resistências limites para o concreto comprimido segundo as diversas normas para valores de $f_{ck}$ variando entre $20 MPa$ e $90 MPa$, para nós do tipo CCC.\n",
    "\n",
    "Figura 2.26 - Comparação da resistência de cálculo do concreto para nós tipo CCC"
   ]
  },
  {
   "cell_type": "code",
   "execution_count": 1,
   "id": "eacd861f",
   "metadata": {},
   "outputs": [
    {
     "data": {
      "text/plain": [
       "Text(0.5, 1.0, 'Comparação das Resistências de Projeto (fcd) vs fck')"
      ]
     },
     "execution_count": 1,
     "metadata": {},
     "output_type": "execute_result"
    },
    {
     "data": {
      "image/png": "[encoded data removed]",
      "text/plain": [
       "<Figure size 640x480 with 1 Axes>"
      ]
     },
     "metadata": {},
     "output_type": "display_data"
    }
   ],
   "source": [
    "import numpy as np\n",
    "import matplotlib.pyplot as plt\n",
    "\n",
    "# Definição das resistências características à compressão do concreto\n",
    "fck = np.array([20., 25., 30., 35., 40., 45., 50., 55., 60., 65., 70., 75., 80., 85., 90.])\n",
    "\n",
    "# Inicialização dos arrays para armazenar os resultados\n",
    "fcd_nbr = np.zeros_like(fck)\n",
    "fcd_ec = np.zeros_like(fck)\n",
    "fcd_fib = np.zeros_like(fck)\n",
    "fcd_aci = np.zeros_like(fck)\n",
    "etacc = np.zeros_like(fck)\n",
    "etafc = np.zeros_like(fck)\n",
    "fcl = np.zeros_like(fck)\n",
    "\n",
    "# Funções para calcular a resistência de projeto conforme diferentes normas\n",
    "def calcular_fcd_nbr(fck):\n",
    "    return 0.85 * (1 - fck / 250) * fck / 1.4\n",
    "\n",
    "def calcular_fcd_ec(fck):\n",
    "    ktc = 0.85\n",
    "    nu = 1.00\n",
    "    etacc = (40.0 / fck) ** (1./3.) if fck >= 40 else 1.00\n",
    "    return nu * etacc * ktc * fck / 1.5\n",
    "\n",
    "def calcular_fcd_fib(fck):\n",
    "    nu = 1.00\n",
    "    etafc = (30.0 / fck) ** (1./3.) if fck >= 30 else 1.00\n",
    "    return nu * etafc * fck / 1.5\n",
    "\n",
    "def calcular_fcd_aci(fck):\n",
    "    phi = 0.75\n",
    "    beta_c = 1.00\n",
    "    beta_n = 1.00\n",
    "    sigma_fc = 4.00\n",
    "    fcm = fck + 1.645 * sigma_fc\n",
    "    if fck < 21:\n",
    "        return phi * 0.85 * beta_c * beta_n * (fcm - 7)\n",
    "    elif fck < 35:\n",
    "        return phi * 0.85 * beta_c * beta_n * (fcm - 8)\n",
    "    else:\n",
    "        return phi * 0.85 * beta_c * beta_n * ((fcm - 5) / 1.10)\n",
    "\n",
    "# Cálculo das resistências de projeto para cada valor de fck\n",
    "for i, fc in enumerate(fck):\n",
    "    fcd_nbr[i] = calcular_fcd_nbr(fc)\n",
    "    fcd_ec[i] = calcular_fcd_ec(fc)\n",
    "    fcd_fib[i] = calcular_fcd_fib(fc)\n",
    "    fcd_aci[i] = calcular_fcd_aci(fc)\n",
    "\n",
    "# Plotagem do gráfico\n",
    "plt.plot(fck, fcd_nbr, label=\"NBR-6118:2023\")\n",
    "plt.plot(fck, fcd_ec, label=\"Eurocode 2023\") \n",
    "plt.plot(fck, fcd_fib, label=\"fib-2010\")\n",
    "plt.plot(fck, fcd_aci, label=\"ACI-318\")\n",
    "\n",
    "plt.legend()\n",
    "plt.xlabel(\"fck [MPa]\")\n",
    "plt.ylabel(\"fcd [MPa]\") \n",
    "plt.grid()\n",
    "plt.title(\"Comparação das Resistências de Projeto (fcd) vs fck\")\n",
    "#plt.show()\n"
   ]
  },
  {
   "cell_type": "markdown",
   "id": "c658f0df",
   "metadata": {},
   "source": [
    "#### Nós do tipo CCT"
   ]
  },
  {
   "cell_type": "markdown",
   "id": "521b1823",
   "metadata": {},
   "source": [
    "* A Figura 2.27 mostra um gráfico comparativo das resistências limites para o concreto comprimido segundo as diversas normas para valores de $f_{ck}$ variando entre $20 MPa$ e $90 MPa$, para nós do tipo CCT. Observe-se que para o Eurocode 2023 foi considerado um ângulo entre a biela e o tirante, $\\theta_{cs}$, entre $40^{\\circ}$ e $60^{\\circ}$.\n",
    "\n",
    "Figura 2.27 - Comparação da resistência de cálculo do concreto para nós tipo CCT"
   ]
  },
  {
   "cell_type": "code",
   "execution_count": 1,
   "id": "5b06f938",
   "metadata": {},
   "outputs": [
    {
     "data": {
      "text/plain": [
       "Text(0.5, 1.0, 'Comparação das Resistências de Projeto (fcd) vs fck')"
      ]
     },
     "execution_count": 1,
     "metadata": {},
     "output_type": "execute_result"
    },
    {
     "data": {
      "image/png": "[encoded data removed]",
      "text/plain": [
       "<Figure size 640x480 with 1 Axes>"
      ]
     },
     "metadata": {},
     "output_type": "display_data"
    }
   ],
   "source": [
    "import numpy as np\n",
    "import matplotlib.pyplot as plt\n",
    "\n",
    "# Definição das resistências características à compressão do concreto\n",
    "fck = np.array([20., 25., 30., 35., 40., 45., 50., 55., 60., 65., 70., 75., 80., 85., 90.])\n",
    "\n",
    "# Inicialização dos arrays para armazenar os resultados\n",
    "fcd_nbr = np.zeros_like(fck)\n",
    "fcd_ec = np.zeros_like(fck)\n",
    "fcd_fib = np.zeros_like(fck)\n",
    "fcd_aci = np.zeros_like(fck)\n",
    "etacc = np.zeros_like(fck)\n",
    "etafc = np.zeros_like(fck)\n",
    "fcl = np.zeros_like(fck)\n",
    "\n",
    "# Funções para calcular a resistência de projeto conforme diferentes normas\n",
    "def calcular_fcd_nbr(fck):\n",
    "    return 0.72 * (1 - fck / 250) * fck / 1.4\n",
    "\n",
    "def calcular_fcd_ec(fck):\n",
    "    # Parâmetros do Eurocode 2023 para theta_cs entre 40 e 60 graus\n",
    "    ktc = 0.85\n",
    "    nu = 0.70\n",
    "    etacc = (40.0 / fck) ** (1./3.) if fck >= 40 else 1.00\n",
    "    return nu * etacc * ktc * fck / 1.5\n",
    "\n",
    "def calcular_fcd_fib(fck):\n",
    "    nu = 0.75\n",
    "    etafc = (30.0 / fck) ** (1./3.) if fck >= 30 else 1.00\n",
    "    return nu * etafc * fck / 1.5\n",
    "\n",
    "def calcular_fcd_aci(fck):\n",
    "    phi = 0.75\n",
    "    beta_c = 1.00\n",
    "    beta_n = 0.80\n",
    "    sigma_fc = 4.00\n",
    "    fcm = fck + 1.645 * sigma_fc\n",
    "    if fck < 21:\n",
    "        return phi * 0.85 * beta_c * beta_n * (fcm - 7)\n",
    "    elif fck < 35:\n",
    "        return phi * 0.85 * beta_c * beta_n * (fcm - 8)\n",
    "    else:\n",
    "        return phi * 0.85 * beta_c * beta_n * ((fcm - 5) / 1.10)\n",
    "\n",
    "# Cálculo das resistências de projeto para cada valor de fck\n",
    "for i, fc in enumerate(fck):\n",
    "    fcd_nbr[i] = calcular_fcd_nbr(fc)\n",
    "    fcd_ec[i] = calcular_fcd_ec(fc)\n",
    "    fcd_fib[i] = calcular_fcd_fib(fc)\n",
    "    fcd_aci[i] = calcular_fcd_aci(fc)\n",
    "\n",
    "# Plotagem do gráfico\n",
    "plt.plot(fck, fcd_nbr, label=\"NBR-6118:2023\")\n",
    "plt.plot(fck, fcd_ec, label=\"Eurocode 2023\") \n",
    "plt.plot(fck, fcd_fib, label=\"fib-2010\")\n",
    "plt.plot(fck, fcd_aci, label=\"ACI-318\")\n",
    "\n",
    "plt.legend()\n",
    "plt.xlabel(\"fck [MPa]\")\n",
    "plt.ylabel(\"fcd [MPa]\") \n",
    "plt.grid()\n",
    "plt.title(\"Comparação das Resistências de Projeto (fcd) vs fck\")\n",
    "#plt.show()\n"
   ]
  }
 ],
 "metadata": {
  "colab": {
   "name": "Capítulo_1.ipynb",
   "provenance": []
  },
  "kernelspec": {
   "display_name": "Python 3 (ipykernel)",
   "language": "python",
   "name": "python3"
  },
  "language_info": {
   "codemirror_mode": {
    "name": "ipython",
    "version": 3
   },
   "file_extension": ".py",
   "mimetype": "text/x-python",
   "name": "python",
   "nbconvert_exporter": "python",
   "pygments_lexer": "ipython3",
   "version": "3.12.0"
  }
 },
 "nbformat": 4,
 "nbformat_minor": 5
}
