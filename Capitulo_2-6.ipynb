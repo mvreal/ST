{
 "cells": [
  {
   "cell_type": "markdown",
   "id": "1dc445f3-8f0f-41b7-a0fa-541467a1d3db",
   "metadata": {
    "id": "1dc445f3-8f0f-41b7-a0fa-541467a1d3db"
   },
   "source": [
    "### Universidade Federal do Rio Grande do Sul - UFRGS"
   ]
  },
  {
   "cell_type": "markdown",
   "id": "27d28d81-ad30-4559-b52d-0fee9ac96cae",
   "metadata": {
    "id": "27d28d81-ad30-4559-b52d-0fee9ac96cae"
   },
   "source": [
    "### Escola de Engenharia - EE"
   ]
  },
  {
   "cell_type": "markdown",
   "id": "103a5401-6849-4ee0-a254-08a7f684a870",
   "metadata": {
    "id": "103a5401-6849-4ee0-a254-08a7f684a870"
   },
   "source": [
    "### Programa de Pós-graduação em Engenharia Civil - PPGEC"
   ]
  },
  {
   "cell_type": "markdown",
   "id": "547b79f5-d7a3-4b02-8ce9-7c1647bff36b",
   "metadata": {
    "id": "547b79f5-d7a3-4b02-8ce9-7c1647bff36b"
   },
   "source": [
    "### Disciplina: Tópicos avançados em concreto - PEC00013"
   ]
  },
  {
   "cell_type": "markdown",
   "id": "189e93bb-f3e5-4536-9aec-d09046d6929b",
   "metadata": {
    "id": "189e93bb-f3e5-4536-9aec-d09046d6929b"
   },
   "source": [
    "### Professor: Dr. Mauro de Vasconcellos Real"
   ]
  },
  {
   "cell_type": "markdown",
   "id": "9187878f-2f69-43a6-9e66-d91991265288",
   "metadata": {},
   "source": [
    "# __Aula 04__"
   ]
  },
  {
   "cell_type": "markdown",
   "id": "ce78f794-4773-4210-bf0c-d89fd0e707f7",
   "metadata": {
    "id": "ce78f794-4773-4210-bf0c-d89fd0e707f7"
   },
   "source": [
    "# __Capítulo 2 - Desenvolvimento dos modelos de bielas e tirantes__ <a name=\"section_2\"></a>"
   ]
  },
  {
   "cell_type": "markdown",
   "id": "a8a51f34",
   "metadata": {},
   "source": [
    "## 2.6 - Estudo comparativo entre diversas normas internacionais\n",
    "\n",
    "* Neste item, apresenta-se um comparativo entre as tensões limites para o concreto nas bielas e nós, de acordo com as normas NBR-6118:2023, Eurocode-2023, Código Modelo fib-2010 e a norma americana ACI-318:2019."
   ]
  },
  {
   "cell_type": "markdown",
   "id": "157432c3-c6ac-4105-b5b2-45e3ad381233",
   "metadata": {
    "id": "157432c3-c6ac-4105-b5b2-45e3ad381233"
   },
   "source": [
    "### 2.6.1 NBR-6118:2023"
   ]
  },
  {
   "cell_type": "markdown",
   "id": "f73cd49d",
   "metadata": {},
   "source": [
    "* A norma brasileira NBR-6118:2023, \"Projeto de estruturas de concreto\", estabelece no seu item 22.1 as seguintes definições:\n",
    "\n",
    "* $f_{cd1}$ - tensão resistente máxima no concreto, em verificações pelo  método das bielas e tirantes, em regiões com tensões de compressão transversal ou sem tensões de tração transversal e em nós onde confluem somentes bielas de compressão (nós CCC);\n",
    "\n",
    "* $f_{cd2}$ - tensão resistente máxima no concreto, em verificações pelo  método das bielas e tirantes, em regiões com tensões de tração transversal ou em nós onde confluem dois ou mais tirantes tracionados (nós CTT ou TTT);\n",
    "\n",
    "* $f_{cd3}$ - tensão resistente máxima no concreto, em verificações pelo  método das bielas e tirantes, em regiões com tensões de tração transversal ou em nós onde conflui um tirante tracionado (nós CCT)."
   ]
  },
  {
   "cell_type": "markdown",
   "id": "b013f8b8",
   "metadata": {},
   "source": [
    "* Em seu item 22.3.2, a NBR-6118:2023 fornece os parâmetros de resistência de cálculo das bielas e regiões nodais.\n",
    "* Para a verificação de tensões de compressão máximas nas bielas e regiões nodais devem ser empregados os seguintes parâmetros de cálculo:\n",
    "\n",
    "* $f_{cd1} = 0,85 \\alpha_{v2} f_{cd}$ (bielas prismáticas ou nós CCC);\n",
    "\n",
    "* $f_{cd2} = 0,60 \\alpha_{v2} f_{cd}$ (bielas atravesssadas por mais de um tirante, ou nós CTT ou TTT);\n",
    "\n",
    "* $f_{cd1} = 0,72 \\alpha_{v2} f_{cd}$ (bielas atravessadas por tirante único, ou nós CCT).\n",
    "\n",
    "* Nas equações acima:\n",
    "\n",
    "$$ \\alpha_{v2} = 1 - \\frac{f_{ck}}{250}$$\n",
    "\n",
    "onde $f_{ck}$ entra em MPa, e \n",
    "\n",
    "$$f_{cd}= \\frac{f_{ck}}{\\gamma_c}$$\n",
    "\n",
    "onde $\\gamma_c = 1,4$, nos casos usuais."
   ]
  },
  {
   "cell_type": "markdown",
   "id": "152cc7e7",
   "metadata": {},
   "source": [
    "### 2.6.2 - Eurocode - 2023"
   ]
  },
  {
   "cell_type": "markdown",
   "id": "6c4c4a6c",
   "metadata": {},
   "source": [
    "* No Eurocode 2023, no seu item 5.1.6, a resistência de cálculo à compressão do concreto é definada por:\n",
    "\n",
    "$$f_{cd} = \\eta_{cc} k_{tc} \\frac{f_{ck}}{\\gamma_c}$$\n",
    "\n",
    "onde:\n",
    "\n",
    "$\\eta_{cc}$  é um fator que leva em conta a diferença entre a resistência entre a resistência não perturbada em um cilindro e a resistência à compressão \n",
    "             efetiva que pode ser desenvolvida em um elemento estrutural, que é dado por:\n",
    "\n",
    "$$ \\eta_{cc} = \\left(\\frac{f_{ck,ref}}{f_{ck}}\\right)^{\\frac{1}{3}}$$\n",
    "\n",
    "sendo:\n",
    "\n",
    "$f_{ck,ref} = 40 MPa$;\n",
    "\n",
    "$k_{tc} = 1,00$ for $t_{ref} \\leq 28$ dias para concretos com classes CR e CN e $t_{ref} \\leq 56$ dias para concretos de classe CS, quando a carga de projeto na é esperada antes de um prazo de pelo menos 3 meses após a concretagem;\n",
    "\n",
    "$k_{tc} = 0,85$ nos outros casos incluindo as situações em que $f_{ck}$ é substituído por $f_{ck}(t)$.\n",
    "\n",
    "$\\gamma_c = 1,5$ nos casos usuais.\n",
    "\n",
    "* Observe-se que a definição de $f_{cd}$ é diferente da norma brasileira NBR-6118:2023, pois o Eurocode 2023 inclui os fatorer $\\eta_{cc}$ e $k_{tc}$ em na determinação da resistência de cálculo do concreto à compressão, além de usar $\\gamma_c = 1,5$.\n"
   ]
  },
  {
   "cell_type": "markdown",
   "id": "1e1d9ff8",
   "metadata": {},
   "source": [
    "* No item 8.5.2 são estabelecidas as tensões limites nas bielas comprimidas.\n",
    "\n",
    "* As tensões nas bielas comprimidas e nos campos de compressão podem ser admitidas como uniformemente distribuídas sobre sua seção transversal, podendo ser calculadas através de:\n",
    "\n",
    "$$\\sigma_{cd} = \\frac{|{F_{cd}|}}{b_c . t}$$\n",
    "\n",
    "onde:\n",
    "\n",
    "$F_{cd}$ é a força normal de compressão do concreto na biela;\n",
    "\n",
    "$t$ é a espessura da biela comprimida, que pode ser limitada pela espessura do elemento;\n",
    "\n",
    "$b_c$ é a largura da biela na posição considerada."
   ]
  },
  {
   "cell_type": "markdown",
   "id": "7d689f54",
   "metadata": {},
   "source": [
    "* A tensão normal de compressão de cálculo $\\sigma_{cd}$ em uma biela ou em uma campo de compressão no concreto deve satisfazer a seguinte condição:\n",
    "\n",
    "$$\\sigma_{cd} \\leq \\nu f_{cd}$$\n",
    "\n",
    "onde $\\nu$ é um fator de redução de resistência\n",
    "\n",
    "* O fator $\\nu$ pode ser determinado como uma função do menor ângulo $\\theta_{cs}$ entre a biela que representa a resultante do campo de compressão e qualquer dos tirantes que atravessam a biela, conforme ilustrado pela Figura 2.18:\n",
    "\n",
    "Figura 2.18 - Ângulo $\\theta_{cs}$ entre a biela ou campo de compressão e o tirante.\n",
    "\n",
    "<img src=\"./images2/ângulo-biela-tirante.jpg\" alt=\"ângulo entre a biela e o tirante\" style=\"width:600px\"/>\n",
    "\n",
    "<font size=\"-1\">Fonte: European Committee for Standardization (2023): EN 1990-1-1:2023. Eurocode 0: Bases of structural design. Brussels, European Committee for Standardization.(adaptada)</font>\n",
    "\n",
    "(a) para campos de compressão e bielas atravessadas ou desviadas por um tirante em um ângulo:\n",
    "\n",
    "- $20^\\circ \\leq \\theta_{cs} \\lt 30^\\circ  \\quad \\quad \\nu = 0,4$\n",
    "\n",
    "- $30^\\circ \\leq \\theta_{cs} \\lt 40^\\circ  \\quad \\quad \\nu = 0,55$\n",
    "\n",
    "- $40^\\circ \\leq \\theta_{cs} \\lt 60^\\circ  \\quad \\quad \\nu = 0,7$\n",
    "\n",
    "- $60^\\circ \\leq \\theta_{cs} \\lt 90^\\circ  \\quad \\quad \\nu = 0,85$\n",
    "\n",
    "Alternativamente, o valor do fator $\\nu$ pode ser determinado como:\n",
    "\n",
    "$$\\nu = \\frac{1}{1,11 + 0,22.cot^2\\theta_{cs}}$$\n",
    "\n",
    "(b) para campos de compressão e bielas em uma região sem fissuração transversal (por exemplo, quando tensões de compressão transversais estão presentes):\n",
    "\n",
    "$$ \\nu = 1,0$$\n",
    "\n"
   ]
  },
  {
   "cell_type": "markdown",
   "id": "a629f787",
   "metadata": {},
   "source": [
    "* Para a verificação das tensões nos nós o valor da tensão limite para o concreto depende da classificação do nó, conforme o item 8.5.4.\n",
    "\n",
    "* Nó do tipo CCC:\n",
    "\n",
    "(1) Em nós do tipo CCC, a verificação do estado de tensões dentro da região nodal pode ser omitida se todas as bielas convergentes no nó respeitam as respectivas tensões limites.\n",
    "\n",
    "(2) O valor do coeficiente $\\nu$ nas extremidades das bielas convergentes pode ser tomado como igual a $1,00$, ou aumentado conforme as recomendações do item 8.1.4 ou do item 8.6. A largura das bielas $b_c$ pode ser adaptada, para que as tensões normais sejam idênticas, conforme a Figura 2.19(a). No caso de as bielas convergentes no nó terem tensões diferentes, a geometria do nó pode ser adaptada de acordo com a Figura 2.19(b).\n",
    "\n",
    "Figura 2.19 - Geometria e tensões em um nó do tipo CCC.\n",
    "\n",
    "<img src=\"./images2/nó-CCC.jpg\" alt=\"nó CCC\" style=\"width:600px\"/>\n",
    "\n",
    "<font size=\"-1\">Fonte: European Committee for Standardization (2023): EN 1990-1-1:2023. Eurocode 0: Bases of structural design. Brussels, European Committee for Standardization.(adaptada)</font>"
   ]
  },
  {
   "cell_type": "markdown",
   "id": "d8302ca6",
   "metadata": {},
   "source": [
    "* Nó do tipo CCT:\n",
    "\n",
    "(1) A força normal de tração $F_{2d}$ mostrada na Figura 2.20(a) deve ser ancorada:\n",
    "\n",
    "- fora da região nodal conforme a Figura 2.20(b); ou\n",
    "\n",
    "- parcialmente ou completamente dentro da região nodal de acordo com a Figura 2.20(c), (d) e (e).\n",
    "\n",
    "(2) O valor do coeficiente $\\nu$ em nós do tipo CCT pode ser tomado como igual:\n",
    "\n",
    "- ao mesmo valor adotado para a biela que concorre ao nó, no caso em que o tirante é ancorado completamente dentro da região nodal, conforme mostrado na Figura 2.20(c) (caso em que $l_{bdn}=l_{bd}$).\n",
    "\n",
    "- $\\nu = 1,0$ no caso em que o tirante é ancorado completamente fora da região nodal como indicado na Figura 2.20(b), (d) e (e).\n",
    "\n",
    "- uma interpolação linear entre os valores anteriores pode ser realizada dependendo da razão entre o comprimento de ancoragem necessário fora da região nodal e o comprimento de ancoragem total necessário.\n",
    "\n",
    "Figura 2.20 - Geometria e tensões em um nó do tipo CCT:(a) modelo de bielas e tirantes, (b) com ancoragem fora da região nodal, (c) ancoragem parcialmente dentro da região nodal, (d) exemplo de ancoragem usando placas de ancoragem fora da região nodal, (e) exemplo de ancoragem usando laços fora da região nodal.\n",
    "\n",
    "<img src=\"./images2/nó-CCT.jpg\" alt=\"nó CCT\" style=\"width:600px\"/>\n",
    "\n",
    "<font size=\"-1\">Fonte: European Committee for Standardization (2023): EN 1990-1-1:2023. Eurocode 0: Bases of structural design. Brussels, European Committee for Standardization.(adaptada)</font>"
   ]
  },
  {
   "cell_type": "markdown",
   "id": "1ff56145",
   "metadata": {},
   "source": [
    "* Nó do tipo CTT:\n",
    "\n",
    "(1) Os nós do tipo CTT (Figura 2.21) devem ser projetados de acordo com uma das seguintes alternativas:\n",
    "\n",
    "- com barras dobradas como mostrado  na Figura 2.21(b);\n",
    "\n",
    "- com ancoragens fora da região nodal como indicado na Figura 2.21(c), ou parcialmente dentro da região nodal de maneira similar ao que é apresentado na Figura 2.21(c);\n",
    "\n",
    "- com barras retas dentro da região nodal como mostra a Figura 2.21(d).\n",
    "\n",
    "(2) O valor do coeficiente $\\nu$ em nós do tipo CTT pode ser tomado como igual:\n",
    "\n",
    "- ao mesmo valor adotado para a biela que concorre ao nó, quando são usadas barras dobradas como mostrado na Figura 2.21(b), desde que respeitados os raios mínimos de dobramento, ou no caso em que o tirante é ancorado completamente dentro da região nodal, conforme mostrado na Figura 2.21(d);\n",
    "\n",
    "- $\\nu = 1,0$ no caso em que o tirante é ancorado completamente fora da região nodal como indicado na Figura 2.21(c).\n",
    "\n",
    "\n",
    "Figura 2.21 - Geometria e tensões em um nó do tipo CTT:(a) modelo de bielas e tirantes e equilíbrio de forças, (b) modelo de bielas e tirantes e campo de tensões para a força de desvio de uma barra dobrada, (c) modelo de bielas e tirantes e campo de tensões para ancoragem fora do nó, (d) modelo de bielas e tirantes e campo de tensões para ancoragem dentro do nó com desvio de direção por aderência.\n",
    "\n",
    "<img src=\"./images2/nó-CTT.jpg\" alt=\"nó CCT\" style=\"width:600px\"/>\n",
    "\n",
    "<font size=\"-1\">Fonte: European Committee for Standardization (2023): EN 1990-1-1:2023. Eurocode 0: Bases of structural design. Brussels, European Committee for Standardization.(adaptada)</font>"
   ]
  },
  {
   "cell_type": "markdown",
   "id": "2c1f17c5",
   "metadata": {},
   "source": [
    "### 2.6.3 - Código Modelo fib-2010"
   ]
  },
  {
   "cell_type": "markdown",
   "id": "f2f917a9-9329-465e-8b58-b8da595961c7",
   "metadata": {
    "id": "f2f917a9-9329-465e-8b58-b8da595961c7"
   },
   "source": [
    "### 2.6.4 - ACI-318:2019"
   ]
  },
  {
   "cell_type": "markdown",
   "id": "4687fbb6",
   "metadata": {},
   "source": [
    "### 2.6.5 - Estudo comparativo das tensões máximas no concreto entre as diversas normas\n"
   ]
  }
 ],
 "metadata": {
  "colab": {
   "name": "Capítulo_1.ipynb",
   "provenance": []
  },
  "kernelspec": {
   "display_name": "Python 3 (ipykernel)",
   "language": "python",
   "name": "python3"
  },
  "language_info": {
   "codemirror_mode": {
    "name": "ipython",
    "version": 3
   },
   "file_extension": ".py",
   "mimetype": "text/x-python",
   "name": "python",
   "nbconvert_exporter": "python",
   "pygments_lexer": "ipython3",
   "version": "3.10.9"
  }
 },
 "nbformat": 4,
 "nbformat_minor": 5
}
