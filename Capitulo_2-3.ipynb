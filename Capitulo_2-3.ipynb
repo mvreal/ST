{
 "cells": [
  {
   "cell_type": "markdown",
   "id": "1dc445f3-8f0f-41b7-a0fa-541467a1d3db",
   "metadata": {
    "id": "1dc445f3-8f0f-41b7-a0fa-541467a1d3db"
   },
   "source": [
    "### Universidade Federal do Rio Grande do Sul - UFRGS"
   ]
  },
  {
   "cell_type": "markdown",
   "id": "27d28d81-ad30-4559-b52d-0fee9ac96cae",
   "metadata": {
    "id": "27d28d81-ad30-4559-b52d-0fee9ac96cae"
   },
   "source": [
    "### Escola de Engenharia - EE"
   ]
  },
  {
   "cell_type": "markdown",
   "id": "103a5401-6849-4ee0-a254-08a7f684a870",
   "metadata": {
    "id": "103a5401-6849-4ee0-a254-08a7f684a870"
   },
   "source": [
    "### Programa de Pós-graduação em Engenharia Civil - PPGEC"
   ]
  },
  {
   "cell_type": "markdown",
   "id": "547b79f5-d7a3-4b02-8ce9-7c1647bff36b",
   "metadata": {
    "id": "547b79f5-d7a3-4b02-8ce9-7c1647bff36b"
   },
   "source": [
    "### Disciplina: Tópicos avançados em concreto - PEC00013"
   ]
  },
  {
   "cell_type": "markdown",
   "id": "189e93bb-f3e5-4536-9aec-d09046d6929b",
   "metadata": {
    "id": "189e93bb-f3e5-4536-9aec-d09046d6929b"
   },
   "source": [
    "### Professor: Dr. Mauro de Vasconcellos Real"
   ]
  },
  {
   "cell_type": "markdown",
   "id": "9187878f-2f69-43a6-9e66-d91991265288",
   "metadata": {},
   "source": [
    "# __Aula 04__"
   ]
  },
  {
   "cell_type": "markdown",
   "id": "ce78f794-4773-4210-bf0c-d89fd0e707f7",
   "metadata": {
    "id": "ce78f794-4773-4210-bf0c-d89fd0e707f7"
   },
   "source": [
    "# __Capítulo 2 - Desenvolvimento dos modelos de bielas e tirantes__ <a name=\"section_2\"></a>"
   ]
  },
  {
   "cell_type": "markdown",
   "id": "a8a51f34",
   "metadata": {},
   "source": [
    "## 2.3 - Modelagem das regiões D"
   ]
  },
  {
   "cell_type": "markdown",
   "id": "157432c3-c6ac-4105-b5b2-45e3ad381233",
   "metadata": {
    "id": "157432c3-c6ac-4105-b5b2-45e3ad381233"
   },
   "source": [
    "* Para ilustrar o desenvolvimento dos modelos de bielas e tirantes, vai-se utilizar uma viga parede, conforme apresentada na Figura 2.3. \n",
    ":"
   ]
  },
  {
   "cell_type": "markdown",
   "id": "152cc7e7",
   "metadata": {},
   "source": [
    "Figura 2.3 - Exemplo de viga-parede."
   ]
  },
  {
   "cell_type": "markdown",
   "id": "ae2cbcd1",
   "metadata": {},
   "source": [
    "<img src=\"./images2/viga-parede.jpg\" alt=\"exemplo de viga-parede\" style=\"width:300px\"/>"
   ]
  },
  {
   "cell_type": "markdown",
   "id": "0f5a1807",
   "metadata": {},
   "source": [
    "<font size=\"-1\">Fonte: SCHLAICH, J.; SCHÄFER, K. & JENNEWEIN, M.  Toward a Consistent Design of Structural Concrete.  PCI Journal, May-June, 1987. v. 32, n. 3, p.75-150 (adaptada)</font>"
   ]
  },
  {
   "cell_type": "markdown",
   "id": "2c1f17c5",
   "metadata": {},
   "source": [
    "* Antes de modelar uma região __D__, as forças e reações que atuam no contorno da região D devem ser determinadas."
   ]
  },
  {
   "cell_type": "markdown",
   "id": "44de5aac-973b-4f8c-80e4-d7ce8e9fdf69",
   "metadata": {
    "id": "44de5aac-973b-4f8c-80e4-d7ce8e9fdf69"
   },
   "source": [
    "* Os esforços ou tensões nas seções limitadas por regiões __B__ são obtidos do estudo destas regiões.\n",
    "."
   ]
  },
  {
   "cell_type": "markdown",
   "id": "8e9132cb",
   "metadata": {},
   "source": [
    "* Os modelos de bielas e tirantes podem ser sistematicamente desenvolvidas traçando-se o fluxo ou caminho das forças (load path) por dentro da região __D__, da forma mostrada na Figura 2.4."
   ]
  },
  {
   "cell_type": "markdown",
   "id": "433d7353",
   "metadata": {},
   "source": [
    "Figura 2.4 - Fluxo ou caminho de forças em uma viga parede."
   ]
  },
  {
   "cell_type": "markdown",
   "id": "261e3847",
   "metadata": {},
   "source": [
    "<img src=\"./images2/caminho-de-forças.jpg\" alt=\"caminho de forças em uma viga parede\" style=\"width:300px\"/>\n"
   ]
  },
  {
   "cell_type": "markdown",
   "id": "a83a9a72",
   "metadata": {},
   "source": [
    "<font size=\"-1\">Fonte: SCHLAICH, J.; SCHÄFER, K. & JENNEWEIN, M.  Toward a Consistent Design of Structural Concrete.  PCI Journal, May-June, 1987. v. 32, n. 3, p.75-150 (adaptada)</font>"
   ]
  },
  {
   "cell_type": "markdown",
   "id": "f2f917a9-9329-465e-8b58-b8da595961c7",
   "metadata": {
    "id": "f2f917a9-9329-465e-8b58-b8da595961c7"
   },
   "source": [
    "* Todas as forças aplicadas nos contornos da região __D__ são subdivididas de tal forma que as resultantes individuais de tensões nos lados opostos das regiões D tenham a mesma intensidade e possam ser ligadas por linhas de fluxo que não se cruzam.\n"
   ]
  },
  {
   "cell_type": "markdown",
   "id": "4170d66f",
   "metadata": {},
   "source": [
    "* Após traçar as linhas de fluxo, deve-se substituí-las por poligonais, cuidando-se para adicionar bielas e tirantes para o equilíbrio transversal do modelo, conforme mostrado na Figura 2.5."
   ]
  },
  {
   "cell_type": "markdown",
   "id": "8e02ebf0",
   "metadata": {},
   "source": [
    "Figura 2.5 - Modelo de bielas e tirantes para a viga-parede."
   ]
  },
  {
   "cell_type": "markdown",
   "id": "d87f0be8",
   "metadata": {},
   "source": [
    "<img src=\"./images2/modelo-de-bielas-e-tirantes.jpg\" alt=\"modelo de bielas e tirantes de uma viga parede\" style=\"width:300px\"/>\n"
   ]
  },
  {
   "cell_type": "markdown",
   "id": "8353836d",
   "metadata": {},
   "source": [
    "<font size=\"-1\">Fonte: SCHLAICH, J.; SCHÄFER, K. & JENNEWEIN, M.  Toward a Consistent Design of Structural Concrete.  PCI Journal, May-June, 1987. v. 32, n. 3, p.75-150 (adaptada)</font>"
   ]
  },
  {
   "cell_type": "markdown",
   "id": "4687fbb6",
   "metadata": {},
   "source": [
    "* Nos modelos de bielas e tirantes deve-se usar ângulos entre os elementos entre 30° e 60°, para evitar problemas de incompatibilidade."
   ]
  },
  {
   "cell_type": "markdown",
   "id": "b397173d",
   "metadata": {},
   "source": [
    "* O estabelecimento do modelo de bielas e de tirantes para uma parede estrutural é apresentado na Figura 2.6: (a) a estrutura e suas cargas; (b) o fluxo de forças no interior da estrutura; (c) o modelo de bielas e tirantes correspondente."
   ]
  },
  {
   "cell_type": "markdown",
   "id": "a0c10be0",
   "metadata": {},
   "source": [
    "Figura 2.6 - Modelo de bielas e tirantes para uma parede estrutural."
   ]
  },
  {
   "cell_type": "markdown",
   "id": "dde73374",
   "metadata": {},
   "source": [
    "<img src=\"./images2/parede-estrutural.jpg\" alt=\"modelo de bielas e tirantes de uma parede estrutural\" style=\"width:900px\"/>\n"
   ]
  },
  {
   "cell_type": "markdown",
   "id": "21e7ff29",
   "metadata": {},
   "source": [
    "<font size=\"-1\">Fonte: SCHLAICH, J.; SCHÄFER, K. & JENNEWEIN, M.  Toward a Consistent Design of Structural Concrete.  PCI Journal, May-June, 1987. v. 32, n. 3, p.75-150 (adaptada)</font>"
   ]
  },
  {
   "cell_type": "markdown",
   "id": "52492415",
   "metadata": {},
   "source": [
    "* Deve-se observar que, qualquer modelo é aceitável, desde que:\n",
    "\n",
    "(1) atenda as condições de equilíbrio;\n",
    "\n",
    "(2) seja orientado conforme a teoria da elasticidade;\n",
    "\n",
    "(3) resulte em uma posição prática para a armadura.\n"
   ]
  },
  {
   "cell_type": "markdown",
   "id": "35ceebb5",
   "metadata": {},
   "source": [
    "* Adicionalmente, as melhores soluções serão aquelas em que os caminhos das forças sejam os mais curtos, preferindo-se bielas a tirantes, por serem as bielas mais rígidas que os tirantes. \n",
    "\n",
    "* Desta forma, o modelo que tem menos tirantes e os tirantes mais curtos é o mais adequado.\n",
    "\n",
    "* Este critério pode ser expresso, numericamente, através da expressão:"
   ]
  },
  {
   "cell_type": "markdown",
   "id": "418a8fcd",
   "metadata": {},
   "source": [
    "$$ \\sum{F_i L_i \\epsilon_{mi}} = \\text{mínimo}$$"
   ]
  },
  {
   "cell_type": "markdown",
   "id": "9cf4b089",
   "metadata": {},
   "source": [
    "onde:\n",
    "\n",
    "$F_i$ - é o esforço normal na biela ou no tirante _i_;\n",
    "\n",
    "$L_i$ - é o comprimento do elemento _i_;\n",
    "\n",
    "$\\epsilon_{mi}$ é a deformação média do elemento _i_."
   ]
  },
  {
   "cell_type": "markdown",
   "id": "05b14468",
   "metadata": {},
   "source": [
    "* Na Figura 2.7 são apresentadas duas soluções de modelos de bielas e tirantes para uma mesma viga-parede: (a) representa a boa solução, pois contém menos tirantes e um menor comprimento total de barras; e (b) a solução ruim, pois possui um comprimento maior de tirantes e um comprimento total de barras maior."
   ]
  },
  {
   "cell_type": "markdown",
   "id": "91d0cf26",
   "metadata": {},
   "source": [
    "Figura 2.7 - Duas soluções de modelos de bielas e tirantes para uma viga-parede: (a) boa solução, (b) solução ruim."
   ]
  },
  {
   "cell_type": "markdown",
   "id": "6c3b4bf2",
   "metadata": {},
   "source": [
    "<img src=\"./images2/solução-boa-e-ruim.jpg\" alt=\"modelo de bielas e tirantes de uma viga-parede: soluções boa e ruim\" style=\"width:600px\"/>\n"
   ]
  },
  {
   "cell_type": "markdown",
   "id": "f04d7860",
   "metadata": {},
   "source": [
    "<font size=\"-1\">Fonte: SCHLAICH, J.; SCHÄFER, K. & JENNEWEIN, M.  Toward a Consistent Design of Structural Concrete.  PCI Journal, May-June, 1987. v. 32, n. 3, p.75-150 (adaptada)</font>"
   ]
  }
 ],
 "metadata": {
  "colab": {
   "name": "Capítulo_1.ipynb",
   "provenance": []
  },
  "kernelspec": {
   "display_name": "Python 3 (ipykernel)",
   "language": "python",
   "name": "python3"
  },
  "language_info": {
   "codemirror_mode": {
    "name": "ipython",
    "version": 3
   },
   "file_extension": ".py",
   "mimetype": "text/x-python",
   "name": "python",
   "nbconvert_exporter": "python",
   "pygments_lexer": "ipython3",
   "version": "3.10.9"
  }
 },
 "nbformat": 4,
 "nbformat_minor": 5
}
