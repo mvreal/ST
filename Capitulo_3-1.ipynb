{
 "cells": [
  {
   "cell_type": "markdown",
   "id": "1dc445f3-8f0f-41b7-a0fa-541467a1d3db",
   "metadata": {
    "id": "1dc445f3-8f0f-41b7-a0fa-541467a1d3db"
   },
   "source": [
    "### Universidade Federal do Rio Grande do Sul - UFRGS"
   ]
  },
  {
   "cell_type": "markdown",
   "id": "27d28d81-ad30-4559-b52d-0fee9ac96cae",
   "metadata": {
    "id": "27d28d81-ad30-4559-b52d-0fee9ac96cae"
   },
   "source": [
    "### Escola de Engenharia - EE"
   ]
  },
  {
   "cell_type": "markdown",
   "id": "103a5401-6849-4ee0-a254-08a7f684a870",
   "metadata": {
    "id": "103a5401-6849-4ee0-a254-08a7f684a870"
   },
   "source": [
    "### Programa de Pós-graduação em Engenharia Civil - PPGEC"
   ]
  },
  {
   "cell_type": "markdown",
   "id": "547b79f5-d7a3-4b02-8ce9-7c1647bff36b",
   "metadata": {
    "id": "547b79f5-d7a3-4b02-8ce9-7c1647bff36b"
   },
   "source": [
    "### Disciplina: Tópicos avançados em concreto - PEC00013"
   ]
  },
  {
   "cell_type": "markdown",
   "id": "189e93bb-f3e5-4536-9aec-d09046d6929b",
   "metadata": {
    "id": "189e93bb-f3e5-4536-9aec-d09046d6929b"
   },
   "source": [
    "### Professor: Dr. Mauro de Vasconcellos Real"
   ]
  },
  {
   "cell_type": "markdown",
   "id": "9187878f-2f69-43a6-9e66-d91991265288",
   "metadata": {},
   "source": [
    "# __Aula 03__"
   ]
  },
  {
   "cell_type": "markdown",
   "id": "ce78f794-4773-4210-bf0c-d89fd0e707f7",
   "metadata": {
    "id": "ce78f794-4773-4210-bf0c-d89fd0e707f7"
   },
   "source": [
    "# __Capítulo 3 - Exemplos de aplicação__ <a name=\"section_3\"></a>"
   ]
  },
  {
   "cell_type": "markdown",
   "id": "a8a51f34",
   "metadata": {},
   "source": [
    "## 3.1 - Viga parede com furo quadrado\n",
    "\n",
    "* Neste capítulo, apresenta-se um exemplo completo de aplicação do método das bielas e dos tirantes para o projeto de uma viga parede com uma grande abertura, conforme desenvolvido por Schlaich, Schäfer e Jennewein (1987). \n",
    "Neste exemplo, mostram-se:\n",
    "\n",
    "- o estabelecimento dos modelos de bielas e tirantes;\n",
    "\n",
    "- o cálculo dos esforços nas bielas e tirantes;\n",
    "\n",
    "- o dimensionamento dos tirantes de armadura;\n",
    "\n",
    "- a verificação das tensões das bielas e nós críticos;\n",
    "\n",
    "- o detalhamento da estrutura.\n"
   ]
  },
  {
   "cell_type": "markdown",
   "id": "157432c3-c6ac-4105-b5b2-45e3ad381233",
   "metadata": {
    "id": "157432c3-c6ac-4105-b5b2-45e3ad381233"
   },
   "source": [
    "### 3.1.1 Descrição do exemplo de cálculo"
   ]
  },
  {
   "cell_type": "markdown",
   "id": "2c6d70ab",
   "metadata": {},
   "source": [
    "* A Figura 3.1 apresenta as características da viga parede com um furo quadrado, que será usada como exemplo de aplicação do método das bielas e tirantes.\n",
    "\n",
    "Figura 3.1 - Viga parede com furo retangular\n",
    "\n",
    "<img src=\"./images3/VP-furo-1.jpg\" alt=\"Viga parede com furo - geometria\" style=\"width:600px\"/>\n",
    "\n",
    "<font size=\"-1\">Fonte: SCHLAICH, J.; SCHÄFER, K. & JENNEWEIN, M.  Toward a Consistent Design of Structural Concrete.  PCI Journal, May-June, 1987. v. 32, n. 3, p.75-150 (adaptada)</font>\n"
   ]
  },
  {
   "cell_type": "markdown",
   "id": "f73cd49d",
   "metadata": {},
   "source": [
    "* A viga parede biapoiada possui um vão teórico de $7m$ e uma altura de $4,7m$, sendo a relação $L/h = 1,49$. A espessura da viga parede é de $0,4m$.\n",
    "\n",
    "* O furo está situado à $0,5m$ da extremidade inferior esquerda da viga parede e mede $1,5m \\times 1,5m$.\n",
    "\n",
    "* A tensão de cálculo à compressão do concreto foi tomada como $\\sigma_{cd} = 0,85 f_{cd} = 17 MPa$ e a resistência de cálculo do aço ao escoamento foi considerada como sendo $f_{yd}=434 MPa$.\n",
    "\n",
    "* A viga parede está submetida a um carga concentrada vertical $F_u= 3MN$ aplicada, a uma distância de $4,5m$ do apoio A, sobre uma placa de aço de $0,7m$ de comprimento.\n",
    "\n",
    "* Nos apoios A e B existem placas de apoio de $0,5m$ de extensão."
   ]
  },
  {
   "cell_type": "markdown",
   "id": "22bcabab",
   "metadata": {},
   "source": [
    "### 3.1.2 Cálculo das reações de apoio"
   ]
  },
  {
   "cell_type": "markdown",
   "id": "b013f8b8",
   "metadata": {},
   "source": [
    "* As reações de apoio podem ser calculadas por equilíbrio de momentos:\n",
    "\n",
    "$$ \\sum M_B =0 \\longrightarrow A = 3MN \\times \\frac{2,5m}{7,0m} = 1,07 MN$$\n",
    "\n",
    "$$ \\sum M_A =0 \\longrightarrow B = 3MN \\times \\frac{4,5m}{7,0m} = 1,93 MN$$\n",
    "\n",
    "* Verificação: $\\sum F_y = 0 \\longrightarrow F_u = A + B = 1,07 MN + 1,93 MN = 3,0 MN$ Ok!"
   ]
  },
  {
   "cell_type": "markdown",
   "id": "152cc7e7",
   "metadata": {},
   "source": [
    "### 3.1.3 - Análise elástica de tensões"
   ]
  },
  {
   "cell_type": "markdown",
   "id": "6c4c4a6c",
   "metadata": {},
   "source": [
    "* Uma análise elástica, através do método dos elementos finitos facilita a definição do modelo. A figura apresenta o fluxo de tensões na viga parede, obtido pelo método dos elementos finitos."
   ]
  },
  {
   "cell_type": "markdown",
   "id": "76645190",
   "metadata": {},
   "source": [
    "* A distribuição das tensões principais no regime elástico para a viga parede analisada é apresentada na Figura 3.2.\n",
    "* A Figura 3.2(a) apresenta a malha de elementos finitos para estado plano de tensões no programa ANSYS 24.1 Student Version.\n",
    "* Na análise foram empregados elementos finitos quadráticos de 8 nós, para estado plano de tensão do tipo Plane 183.\n",
    "* Os elementos possuem 25 cm de lado. Foi considerada uma espessura de 40 cm para a viga parede."
   ]
  },
  {
   "cell_type": "markdown",
   "id": "8a5b47ec",
   "metadata": {},
   "source": [
    "Figura 3.2(a) - Malha para análise por elementos finitos no programa ANSYS."
   ]
  },
  {
   "cell_type": "markdown",
   "id": "79bf618a",
   "metadata": {},
   "source": [
    "<img src=\"./images3/VP-malha.jpg\" alt=\"Malha elementos finitos ANSYS\" style=\"width:600px\"/>"
   ]
  },
  {
   "cell_type": "markdown",
   "id": "e99ccab9",
   "metadata": {},
   "source": [
    "* A partir da Figura 3.2(b) é possível visualizar o fluxo das tensões do ponto de aplicação da carga até os apoios.\n",
    "* Em azul escuro observa-se as tensões principais de compressão e em branco as tensões principais de tração."
   ]
  },
  {
   "cell_type": "markdown",
   "id": "52084048",
   "metadata": {},
   "source": [
    "Figura 3.2(b) - Distribuição das tensões principais na viga parede."
   ]
  },
  {
   "cell_type": "markdown",
   "id": "8e855bf4",
   "metadata": {},
   "source": [
    "<img src=\"./images3/VP-fluxo.jpg\" alt=\"Distribuição das tensões principais\" style=\"width:600px\"/>"
   ]
  },
  {
   "cell_type": "markdown",
   "id": "fd61e0f8",
   "metadata": {},
   "source": [
    "### 3.1.4 - O modelo de bielas e tirantes"
   ]
  },
  {
   "cell_type": "markdown",
   "id": "47493bf4",
   "metadata": {},
   "source": [
    "* A estrutura inteira é uma região D. Pode-se separar duas pequenas regiões B nos trechos lineares a esquerda e abaixo da abertura. \n",
    "\n",
    "* Para facilitar a análise, pode-se dividir a viga parede em duas partes: a da direita e a da esquerda, conforme é mostrado na Figura 3.3.\n",
    "\n",
    "* Na parte da direita os nós 1 e 2 são equilibrados pelas forças horizontais C e T.  "
   ]
  },
  {
   "cell_type": "markdown",
   "id": "e8ad276b",
   "metadata": {},
   "source": [
    "Figura 3.3 - Modelo de bielas e tirantes da viga parede: parte da direita.\n",
    "\n",
    "<img src=\"./images3/VP-direita.jpg\" alt=\"Modelo de bielas e tirantes - direita\" style=\"width:600px\"/>\n",
    "\n",
    "<font size=\"-1\">Fonte: SCHLAICH, J.; SCHÄFER, K. & JENNEWEIN, M.  Toward a Consistent Design of Structural Concrete.  PCI Journal, May-June, 1987. v. 32, n. 3, p.75-150 (adaptada)</font>"
   ]
  },
  {
   "cell_type": "markdown",
   "id": "d8352c27",
   "metadata": {},
   "source": [
    "* A biela comprimida vai se espalhar e causar esforços de tração transversal, como mostra a Figura 3.4.\n",
    "\n",
    "* A parte da direita fica melhor representada por dois campos em forma de garrafa justapostos."
   ]
  },
  {
   "cell_type": "markdown",
   "id": "19e54b54",
   "metadata": {},
   "source": [
    "Figura 3.4 - Modelo de bielas e tirantes: campo no formato de garrafa.\n",
    "\n",
    "<img src=\"./images3/VP-garrafa.jpg\" alt=\"Modelo de bielas e tirantes - garrafa\" style=\"width:300px\"/>\n",
    "\n",
    "<font size=\"-1\">Fonte: SCHLAICH, J.; SCHÄFER, K. & JENNEWEIN, M.  Toward a Consistent Design of Structural Concrete.  PCI Journal, May-June, 1987. v. 32, n. 3, p.75-150 (adaptada)</font>"
   ]
  },
  {
   "cell_type": "markdown",
   "id": "8d27e3ea",
   "metadata": {},
   "source": [
    "* Na parte esquerda, Figura 3.5, os esforços no contorno já estão bem definidos, de forma que esta parte pode ser modelada de forma independente da outra. "
   ]
  },
  {
   "cell_type": "markdown",
   "id": "81f90a86",
   "metadata": {},
   "source": [
    "Figura 3.5 - Modelo de bielas e tirantes: parte da esquerda.\n",
    "\n",
    "<img src=\"./images3/VP-esquerda.jpg\" alt=\"Modelo de bielas e tirantes - esquerda\" style=\"width:300px\"/>\n",
    "\n",
    "<font size=\"-1\">Fonte: SCHLAICH, J.; SCHÄFER, K. & JENNEWEIN, M.  Toward a Consistent Design of Structural Concrete.  PCI Journal, May-June, 1987. v. 32, n. 3, p.75-150 (adaptada)</font>"
   ]
  },
  {
   "cell_type": "markdown",
   "id": "41e47871",
   "metadata": {},
   "source": [
    "* Na linha divisória, a força cortante é nula e o momento fletor é máximo. Logo, somente as duas forças horizontais ligam os dois lados | T | = | C |.\n",
    "\n",
    "* As forças C e A encontram-se no nó 1”. Da parte de baixo, a reação A entra na estrutura verticalmente e permanece nesta direção até passar a abertura. A região B1 é, portanto, uma coluna carregada de forma centrada."
   ]
  },
  {
   "cell_type": "markdown",
   "id": "cbc79868",
   "metadata": {},
   "source": [
    "* Para o lado esquerdo da viga parede dois modelos distintos podem ser utilizados.\n",
    "\n",
    "* O primeiro é o mostrado na Figura 3.6. Trata-se de um modelo de bielas e tirantes inclinados a 45°.\n",
    "\n",
    "* Este procedimento resulta em uma distribuição ortogonal da armadura, adequada à utilização prática."
   ]
  },
  {
   "cell_type": "markdown",
   "id": "89c17ac3",
   "metadata": {},
   "source": [
    "Figura 3.6 - Modelo de bielas e tirantes: barras a 45°.\n",
    "\n",
    "<img src=\"./images3/VP-45-graus.jpg\" alt=\"Modelo de bielas e tirantes - 45 graus\" style=\"width:300px\"/>\n",
    "\n",
    "<font size=\"-1\">Fonte: SCHLAICH, J.; SCHÄFER, K. & JENNEWEIN, M.  Toward a Consistent Design of Structural Concrete.  PCI Journal, May-June, 1987. v. 32, n. 3, p.75-150 (adaptada)</font>"
   ]
  },
  {
   "cell_type": "markdown",
   "id": "9fe1ea52",
   "metadata": {},
   "source": [
    "* O segundo modelo parte de um tirante inclinado a 45°, que passa pelo canto da abertura, conforme é ilustrado pela Figura 3.7."
   ]
  },
  {
   "cell_type": "markdown",
   "id": "c89abd6b",
   "metadata": {},
   "source": [
    "Figura 3.7 - Modelo de bielas e tirantes: tirante a 45°.\n",
    "\n",
    "<img src=\"./images3/VP-tirante.jpg\" alt=\"Modelo de bielas e tirantes - tirante a 45 graus\" style=\"width:300px\"/>\n",
    "\n",
    "<font size=\"-1\">Fonte: SCHLAICH, J.; SCHÄFER, K. & JENNEWEIN, M.  Toward a Consistent Design of Structural Concrete.  PCI Journal, May-June, 1987. v. 32, n. 3, p.75-150 (adaptada)</font>"
   ]
  },
  {
   "cell_type": "markdown",
   "id": "437f5a0d",
   "metadata": {},
   "source": [
    "* Cada modelo seria suficiente por si só, contudo, olhando as tensões elásticas, observa-se que a combinação de ambos é melhor do que cada um deles isoladamente. \n",
    "\n",
    "* Assim se admite que cada modelo suporte a metade da carga.\n",
    "\n",
    "* A Figura 3.8 mostra a superposição dos dois modelos do lado esquerdo e o modelo do lado direito. Ao comparar-se este modelo e as tensões elásticas verifica-se uma coincidência satisfatória. A geometria do modelo foi orientada pelos campos de tensões elásticas."
   ]
  },
  {
   "cell_type": "markdown",
   "id": "89e575a6",
   "metadata": {},
   "source": [
    "Figura 3.8 - Modelo de bielas e tirantes completo.\n",
    "\n",
    "<img src=\"./images3/VP-completo.jpg\" alt=\"Modelo de bielas e tirantes - completo\" style=\"width:600px\"/>\n",
    "\n",
    "<font size=\"-1\">Fonte: SCHLAICH, J.; SCHÄFER, K. & JENNEWEIN, M.  Toward a Consistent Design of Structural Concrete.  PCI Journal, May-June, 1987. v. 32, n. 3, p.75-150 (adaptada)</font>"
   ]
  },
  {
   "cell_type": "markdown",
   "id": "8187579e",
   "metadata": {},
   "source": [
    "### 3.1.5 - Dimensionamento dos tirantes"
   ]
  },
  {
   "cell_type": "markdown",
   "id": "ff60d653",
   "metadata": {},
   "source": [
    "* A Tabela 3.1 apresenta as áreas de armadura necessárias para os diversos tirantes."
   ]
  },
  {
   "cell_type": "markdown",
   "id": "10f8dc5b",
   "metadata": {},
   "source": [
    "Tabela 3.1 - Dimensionamento dos tirantes.\n",
    "\n",
    "<img src=\"./images3/VP-dimensionamento-tirantes.jpg\" alt=\"Dimensionamento dos tirantes\" style=\"width:300px\"/>\n",
    "\n"
   ]
  },
  {
   "cell_type": "markdown",
   "id": "d96c0771",
   "metadata": {},
   "source": [
    "### 3.1.6 - Verificação das tensões no concreto"
   ]
  },
  {
   "cell_type": "markdown",
   "id": "8c05824b",
   "metadata": {},
   "source": [
    "* As tensões sob as placas de apoio serão dadas por:\n",
    "\n",
    "* Placa de carregamento F:\n",
    "\n",
    "$$\\sigma_{cF} = \\frac{ 3,0 MN}{0,7m \\times 0,4m} = 10,7 MPa \\lt 1,1 \\sigma_{cd}$$\n",
    "\n",
    "* Placa de apoio A:\n",
    "\n",
    "$$\\sigma_{cA} = \\frac{ 1,07 MN}{0,5m \\times 0,4m} = 10,7 MPa \\lt 0,8 \\sigma_{cd}$$\n",
    "\n",
    "* Placa de apoio B:\n",
    "\n",
    "$$\\sigma_{cB} = \\frac{ 1,93 MN}{0,5m \\times 0,4m} = 10,7 MPa \\lt 0,8 \\sigma_{cd}$$"
   ]
  },
  {
   "cell_type": "markdown",
   "id": "20092c82",
   "metadata": {},
   "source": [
    "* Verificação das tensões nos nós:\n",
    "\n",
    "* O nó mais solicitado é o nó junto ao apoio B. O esforço de compressão na biela é igual a $2,21 MN$.\n",
    "\n",
    "* O estado de tensões neste nó é mostrado na Figura 3.9.\n",
    "\n",
    "Figura 3.9 - Estado de tensões no nó 2.\n",
    "\n",
    "<img src=\"./images3/VP-nó-2.jpg\" alt=\"Estado de tensões no nó 2\" style=\"width:300px\"/>\n",
    "\n",
    "<font size=\"-1\">Fonte: SCHLAICH, J.; SCHÄFER, K. & JENNEWEIN, M.  Toward a Consistent Design of Structural Concrete.  PCI Journal, May-June, 1987. v. 32, n. 3, p.75-150 (adaptada)</font>\n",
    "\n",
    "* Assim, conforme a Figura 3.9, tem-se que:\n",
    "\n",
    "$$\\sigma_{c3} = \\frac{ 2,21 MN}{0,68m \\times 0,4m} = 8,10 MPa \\lt 0,6 \\sigma_{cd}$$\n",
    "\n"
   ]
  },
  {
   "cell_type": "markdown",
   "id": "1e0e8ea3",
   "metadata": {},
   "source": [
    "### 3.1.7 - Detalhamento das armaduras principais"
   ]
  },
  {
   "cell_type": "markdown",
   "id": "d11c87af",
   "metadata": {},
   "source": [
    "* O detalhamento das armaduras principais obtidas a partir do modelo de bielas e tirantes é mostrado na Figura 3.10.\n",
    "\n",
    "* Além da armadura principal, resultante do cálculo, deve-se colocar uma armadura adicional composta por uma malha em cada lado da viga parede, a armadura mínima para um pilar à esquerda da abertura e estribos abaixo da abertura."
   ]
  },
  {
   "cell_type": "markdown",
   "id": "3c79c2d6",
   "metadata": {},
   "source": [
    "Figura 3.10 - Detalhamento das armaduras.\n",
    "\n",
    "<img src=\"./images3/VP-armaduras.jpg\" alt=\"Detalhamento das armaduras\" style=\"width:600px\"/>\n",
    "\n",
    "<font size=\"-1\">Fonte: SCHLAICH, J.; SCHÄFER, K. & JENNEWEIN, M.  Toward a Consistent Design of Structural Concrete.  PCI Journal, May-June, 1987. v. 32, n. 3, p.75-150 (adaptada)</font>"
   ]
  }
 ],
 "metadata": {
  "colab": {
   "name": "Capítulo_1.ipynb",
   "provenance": []
  },
  "kernelspec": {
   "display_name": "Python 3 (ipykernel)",
   "language": "python",
   "name": "python3"
  },
  "language_info": {
   "codemirror_mode": {
    "name": "ipython",
    "version": 3
   },
   "file_extension": ".py",
   "mimetype": "text/x-python",
   "name": "python",
   "nbconvert_exporter": "python",
   "pygments_lexer": "ipython3",
   "version": "3.12.0"
  }
 },
 "nbformat": 4,
 "nbformat_minor": 5
}
