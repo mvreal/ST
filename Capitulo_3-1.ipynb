{
 "cells": [
  {
   "cell_type": "markdown",
   "id": "1dc445f3-8f0f-41b7-a0fa-541467a1d3db",
   "metadata": {
    "id": "1dc445f3-8f0f-41b7-a0fa-541467a1d3db"
   },
   "source": [
    "### Universidade Federal do Rio Grande do Sul - UFRGS"
   ]
  },
  {
   "cell_type": "markdown",
   "id": "27d28d81-ad30-4559-b52d-0fee9ac96cae",
   "metadata": {
    "id": "27d28d81-ad30-4559-b52d-0fee9ac96cae"
   },
   "source": [
    "### Escola de Engenharia - EE"
   ]
  },
  {
   "cell_type": "markdown",
   "id": "103a5401-6849-4ee0-a254-08a7f684a870",
   "metadata": {
    "id": "103a5401-6849-4ee0-a254-08a7f684a870"
   },
   "source": [
    "### Programa de Pós-graduação em Engenharia Civil - PPGEC"
   ]
  },
  {
   "cell_type": "markdown",
   "id": "547b79f5-d7a3-4b02-8ce9-7c1647bff36b",
   "metadata": {
    "id": "547b79f5-d7a3-4b02-8ce9-7c1647bff36b"
   },
   "source": [
    "### Disciplina: Tópicos avançados em concreto - PEC00013"
   ]
  },
  {
   "cell_type": "markdown",
   "id": "189e93bb-f3e5-4536-9aec-d09046d6929b",
   "metadata": {
    "id": "189e93bb-f3e5-4536-9aec-d09046d6929b"
   },
   "source": [
    "### Professor: Dr. Mauro de Vasconcellos Real"
   ]
  },
  {
   "cell_type": "markdown",
   "id": "9187878f-2f69-43a6-9e66-d91991265288",
   "metadata": {},
   "source": [
    "# __Aula 05__"
   ]
  },
  {
   "cell_type": "markdown",
   "id": "ce78f794-4773-4210-bf0c-d89fd0e707f7",
   "metadata": {
    "id": "ce78f794-4773-4210-bf0c-d89fd0e707f7"
   },
   "source": [
    "# __Capítulo 3 - Exemplos de aplicação__ <a name=\"section_3\"></a>"
   ]
  },
  {
   "cell_type": "markdown",
   "id": "a8a51f34",
   "metadata": {},
   "source": [
    "## 3.1 - Viga parede com furo quadrado\n",
    "\n",
    "* Neste capítulo, apresenta-se um exemplo completo de aplicação do método das bielas e dos tirantes para o projeto de uma viga parede com uma grande abertura, conforme desenvolvido por Schlaich, Schäfer e Jennewein (1987). \n",
    "Neste exemplo, mostram-se:\n",
    "\n",
    "- o estabelecimento dos modelos de bielas e tirantes;\n",
    "\n",
    "- o cálculo dos esforços nas bielas e tirantes;\n",
    "\n",
    "- o dimensionamento dos tirantes de armadura;\n",
    "\n",
    "- a verificação das tensões das bielas e nós críticos;\n",
    "\n",
    "- o detalhamento da estrutura.\n"
   ]
  },
  {
   "cell_type": "markdown",
   "id": "157432c3-c6ac-4105-b5b2-45e3ad381233",
   "metadata": {
    "id": "157432c3-c6ac-4105-b5b2-45e3ad381233"
   },
   "source": [
    "### 3.1.1 Descrição do exemplo de cálculo"
   ]
  },
  {
   "cell_type": "markdown",
   "id": "2c6d70ab",
   "metadata": {},
   "source": [
    "* A Figura 3.1 apresenta as características da viga paredo com um furo quadrado, que será usada como exemplo de aplicação do método das bielas e tirantes.\n",
    "\n",
    "Figura 3.1 - Viga parede com furo retangular\n",
    "\n",
    "<img src=\"./images3/VP-furo-1.jpg\" alt=\"Viga parede com furo - geometria\" style=\"width:600px\"/>\n",
    "\n",
    "<font size=\"-1\">Fonte: SCHLAICH, J.; SCHÄFER, K. & JENNEWEIN, M.  Toward a Consistent Design of Structural Concrete.  PCI Journal, May-June, 1987. v. 32, n. 3, p.75-150 (adaptada)</font>\n"
   ]
  },
  {
   "cell_type": "markdown",
   "id": "f73cd49d",
   "metadata": {},
   "source": [
    "* A viga parede biapoiada possui um vão teórico de $7m$ e uma altura de $4,7m$, sendo a relação $L/h = 1,49$. A espessura da viga parede é de $0,4m$.\n",
    "\n",
    "* O furo está situado à $0,5m$ da extremidade inferior esquerda da viga parede e mede \"1,5m \\versus 1,5m$.\n",
    "\n",
    "* A tensão de cálculo à compressão do concreto foi tomada como $\\sigma_{cd} = 0,85 f_{cd}$ = 17 MPa$ e a resistência de cálculo do aço ao escoamento foi considerada como sendo $f_{yd}=434 MPa$.\n",
    "\n",
    "* A viga parede está submetida a um carga concentrada vertical $F_u= 3MN$ aplicada, a uma distância de $4,5m$ do apoio A, sobre uma placa de aço de $0,7m$ de comprimento.\n",
    "\n",
    "* Nos apoios A e B existem placas de apoio de $0,5m$ de extensão."
   ]
  },
  {
   "cell_type": "markdown",
   "id": "22bcabab",
   "metadata": {},
   "source": [
    "### 3.1.2 Cálculo das reações de apoio"
   ]
  },
  {
   "cell_type": "markdown",
   "id": "b013f8b8",
   "metadata": {},
   "source": [
    "* As reações de apoio podem ser calculadas por equilíbrio de momentos:\n",
    "\n",
    "$$ \\sum M_B =0 \\longrightarrow A = 3MN \\times \\frac{2,5m}{7,0m} = 1,07 MN$$\n",
    "\n",
    "$$ \\sum M_A =0 \\longrightarrow B = 3MN \\times \\frac{4,5m}{7,0m} = 1,93 MN$$\n",
    "\n",
    "* Verificação: $\\sum F_y = 0 \\longrightarrow F_u = A + B = 1,07 MN + 1,93 MN = 3,0 MN$ Ok!"
   ]
  },
  {
   "cell_type": "markdown",
   "id": "152cc7e7",
   "metadata": {},
   "source": [
    "### 3.1.3 - Análise elástica de tensões"
   ]
  },
  {
   "cell_type": "markdown",
   "id": "6c4c4a6c",
   "metadata": {},
   "source": [
    "* Uma análise elástica, através do método dos elementos finitos facilita a definição do modelo. A figura apresenta o fluxo de tensões na viga parede, obtido pelo método dos elementos finitos."
   ]
  },
  {
   "cell_type": "markdown",
   "id": "76645190",
   "metadata": {},
   "source": [
    "* A distribuição das tensões principais no regime elástico para a viga parede analisada é apresentada na Figura 3.2.\n",
    "* A partir desta Figura é possível visualizar o flux das tensões do ponto de aplicação da carga até os apoios."
   ]
  },
  {
   "cell_type": "markdown",
   "id": "52084048",
   "metadata": {},
   "source": [
    "Figura 3.2 - Distribuição das tensões principais na viga parede."
   ]
  },
  {
   "cell_type": "markdown",
   "id": "8e855bf4",
   "metadata": {},
   "source": [
    "<img src=\"./images3/VP-tensões-principais.jpg\" alt=\"Distribuição das tensões principais\" style=\"width:600px\"/>\n",
    "\n",
    "<font size=\"-1\">Fonte: SCHLAICH, J.; SCHÄFER, K. & JENNEWEIN, M.  Toward a Consistent Design of Structural Concrete.  PCI Journal, May-June, 1987. v. 32, n. 3, p.75-150 (adaptada)</font>"
   ]
  }
 ],
 "metadata": {
  "colab": {
   "name": "Capítulo_1.ipynb",
   "provenance": []
  },
  "kernelspec": {
   "display_name": "Python 3 (ipykernel)",
   "language": "python",
   "name": "python3"
  },
  "language_info": {
   "codemirror_mode": {
    "name": "ipython",
    "version": 3
   },
   "file_extension": ".py",
   "mimetype": "text/x-python",
   "name": "python",
   "nbconvert_exporter": "python",
   "pygments_lexer": "ipython3",
   "version": "3.12.0"
  }
 },
 "nbformat": 4,
 "nbformat_minor": 5
}
