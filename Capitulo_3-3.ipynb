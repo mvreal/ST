{
 "cells": [
  {
   "cell_type": "markdown",
   "id": "1dc445f3-8f0f-41b7-a0fa-541467a1d3db",
   "metadata": {
    "id": "1dc445f3-8f0f-41b7-a0fa-541467a1d3db"
   },
   "source": [
    "### Universidade Federal do Rio Grande do Sul - UFRGS"
   ]
  },
  {
   "cell_type": "markdown",
   "id": "27d28d81-ad30-4559-b52d-0fee9ac96cae",
   "metadata": {
    "id": "27d28d81-ad30-4559-b52d-0fee9ac96cae"
   },
   "source": [
    "### Escola de Engenharia - EE"
   ]
  },
  {
   "cell_type": "markdown",
   "id": "103a5401-6849-4ee0-a254-08a7f684a870",
   "metadata": {
    "id": "103a5401-6849-4ee0-a254-08a7f684a870"
   },
   "source": [
    "### Programa de Pós-graduação em Engenharia Civil - PPGEC"
   ]
  },
  {
   "cell_type": "markdown",
   "id": "547b79f5-d7a3-4b02-8ce9-7c1647bff36b",
   "metadata": {
    "id": "547b79f5-d7a3-4b02-8ce9-7c1647bff36b"
   },
   "source": [
    "### Disciplina: Tópicos avançados em concreto - PEC00013"
   ]
  },
  {
   "cell_type": "markdown",
   "id": "189e93bb-f3e5-4536-9aec-d09046d6929b",
   "metadata": {
    "id": "189e93bb-f3e5-4536-9aec-d09046d6929b"
   },
   "source": [
    "### Professor: Dr. Mauro de Vasconcellos Real"
   ]
  },
  {
   "cell_type": "markdown",
   "id": "9187878f-2f69-43a6-9e66-d91991265288",
   "metadata": {},
   "source": [
    "# __Aula 03__"
   ]
  },
  {
   "cell_type": "markdown",
   "id": "ce78f794-4773-4210-bf0c-d89fd0e707f7",
   "metadata": {
    "id": "ce78f794-4773-4210-bf0c-d89fd0e707f7"
   },
   "source": [
    "# __Capítulo 3 - Exemplos de aplicação__ <a name=\"section_3\"></a>"
   ]
  },
  {
   "cell_type": "markdown",
   "id": "a8a51f34",
   "metadata": {},
   "source": [
    "## 3.3 - Viga parede com furo quadrado - análise com o programa CAST\n",
    "\n",
    "* Neste item, apresenta-se um exemplo completo de aplicação do método das bielas e dos tirantes para o projeto de uma viga parede com furo retangular, agora empregando o programa CAST, desenvolvido na University of Illinois, nos E.U.A. O exemplo é o mesmo desenvolvido por Schlaich et al. (1987), apresentado no item 3.1."
   ]
  },
  {
   "cell_type": "markdown",
   "id": "157432c3-c6ac-4105-b5b2-45e3ad381233",
   "metadata": {
    "id": "157432c3-c6ac-4105-b5b2-45e3ad381233"
   },
   "source": [
    "### 3.3.1 Descrição do exemplo de cálculo"
   ]
  },
  {
   "cell_type": "markdown",
   "id": "2c6d70ab",
   "metadata": {},
   "source": [
    "* A Figura 3.12 apresenta as características do console curto simétrico, que será usada como exemplo de aplicação do método das bielas e tirantes com o programa CAST.\n",
    "\n",
    "Figura 3.24 - Viga parede com furo quadrado\n",
    "\n",
    "<img src=\"./images3/VP-furo-1.jpg\" alt=\"Viga parede com furo quadrado - geometria\" style=\"width:600px\"/>\n",
    "\n",
    "<font size=\"-1\">Fonte: SCHLAICH, J.; SCHÄFER, K. & JENNEWEIN, M.  Toward a Consistent Design of Structural Concrete.  PCI Journal, May-June, 1987. v. 32, n. 3, p.75-150 (adaptada)</font>\n",
    "\n"
   ]
  },
  {
   "cell_type": "markdown",
   "id": "f73cd49d",
   "metadata": {},
   "source": [
    "* A viga parede biapoiada possui um vão teórico de $7m$ e uma altura de $4,7m$, sendo a relação $L/h = 1,49$. A espessura da viga parede é de $0,4m$.\n",
    "\n",
    "* O furo está situado à $0,5m$ da extremidade inferior esquerda da viga parede e mede $1,5m \\times 1,5m$.\n",
    "\n",
    "* A tensão de cálculo à compressão do concreto foi tomada como $\\sigma_{cd} = 0,85 f_{cd} = 17 MPa$ e a resistência de cálculo do aço ao escoamento foi considerada como sendo $f_{yd}=434 MPa$.\n",
    "\n",
    "* A viga parede está submetida a um carga concentrada vertical $F_u= 3MN$ aplicada, a uma distância de $4,5m$ do apoio A, sobre uma placa de aço de $0,7m$ de comprimento.\n",
    "\n",
    "* Nos apoios A e B existem placas de apoio de $0,5m$ de extensão."
   ]
  },
  {
   "cell_type": "markdown",
   "id": "22bcabab",
   "metadata": {},
   "source": [
    "### 3.3.2 Definição das propriedades dos materiais e da espessura da região D"
   ]
  },
  {
   "cell_type": "markdown",
   "id": "b013f8b8",
   "metadata": {},
   "source": [
    "* Em primeiro lugar deve-se fornecer as propriedades dos materiais e a espessura da região D, Figura 3.25.\n",
    "\n",
    "Figura 3.25 - Propriedades dos materiais e espessura da região D.\n",
    "\n",
    "<img src=\"./images3/Schlaich-materiais.jpg\" alt=\"CAST - materiais e espessura\" style=\"width:600px\"/>\n",
    "\n",
    "\n"
   ]
  },
  {
   "cell_type": "markdown",
   "id": "152cc7e7",
   "metadata": {},
   "source": [
    "### 3.3.3 - Análise do lado direito da seção da viga-parede"
   ]
  },
  {
   "cell_type": "markdown",
   "id": "bbc1f4f3",
   "metadata": {},
   "source": [
    "#### 3.3.3.1 Modelo com campo de tensões em garrafa"
   ]
  },
  {
   "cell_type": "markdown",
   "id": "76645190",
   "metadata": {},
   "source": [
    "* O modelo da seção da direita com o campo de tensões no formato de garrafa pode ser montado usando uma função pré-definida no CAST, considerando uma inclinação 1:4 e empregando-se 2 tirantes, conforme indicado na Figura 3.26.\n",
    "\n",
    "* Aplica-se a reação de apoio $B = 1,93 MN$ a uma distância de $144 mm$ do ponto de aplicação de $F_u$. Isto é feito para que o ângulo da biela comprimida seja igual a $61^{\\circ}$, conforme especificado no artigo. O ponto de aplicação da força de compressão horizontal $C$ está a $200 mm$ do topo como indicado no texto.\n",
    "\n",
    "* Observe-se a necessidade de introduzir-se barras adicionais como a E20 e a E60 para estabilizar o modelo de treliça, contudo o esforço normal nestas barras será nulo."
   ]
  },
  {
   "cell_type": "markdown",
   "id": "52084048",
   "metadata": {},
   "source": [
    "Figura 3.26 - Seção da direita com modelo de campo de tensões em formato de garrafa"
   ]
  },
  {
   "cell_type": "markdown",
   "id": "8e855bf4",
   "metadata": {},
   "source": [
    "<img src=\"./images3/Schlaich-dir-1.jpg\" alt=\"Direita - campo em garrafa\" style=\"width:600px\"/>"
   ]
  },
  {
   "cell_type": "markdown",
   "id": "852a5af6",
   "metadata": {},
   "source": [
    "* A Figura 3.27 mostra os esforços normais nas barras da treliça.\n",
    "\n",
    "* Observe-se que a força normal nos tirantes E7 e E8 vale $0,414 MN$ é bastante próxima do valor obtido por Schlaich et al. (1987) nos tirantes T10 e T11 igual a $0,402 MN$. \n",
    "\n",
    "* Além disso, nos vínculos horizontais tem-se que $|C|= T = 1,07 MN$, como o resultado obtido por Schlaich et al. (1987)."
   ]
  },
  {
   "cell_type": "markdown",
   "id": "2a3054e4",
   "metadata": {},
   "source": [
    "Figura 3.27 - Modelo de campo em formato de garrafa para o lado direito da viga parede"
   ]
  },
  {
   "cell_type": "markdown",
   "id": "2f193de4",
   "metadata": {},
   "source": [
    "<img src=\"./images3/Schlaich-dir-1-normais.jpg\" alt=\"Direita - campo em garrafa - esforços normais\" style=\"width:600px\"/>"
   ]
  },
  {
   "cell_type": "markdown",
   "id": "fd61e0f8",
   "metadata": {},
   "source": [
    "#### 3.3.3.2 - Modelo como biela prismática"
   ]
  },
  {
   "cell_type": "markdown",
   "id": "47493bf4",
   "metadata": {},
   "source": [
    "* Para se avaliar o estado de tensões junto ao apoio B, utiliza-se o modelo de biela prismática conforme é apresentado na Figura 3.28.\n",
    "\n",
    "* Observe-se a barra vertical para dar estabilidade a treliça, mas cujo esforço normal será nulo."
   ]
  },
  {
   "cell_type": "markdown",
   "id": "e8ad276b",
   "metadata": {},
   "source": [
    "Figura 3.28 - Seção da direita com modelo de biela prismática\n",
    "\n",
    "<img src=\"./images3/Schlaich-dir-2.jpg\" alt=\"Direita - biela prismática\" style=\"width:600px\"/>"
   ]
  },
  {
   "cell_type": "markdown",
   "id": "d120a43d",
   "metadata": {},
   "source": [
    "* A Figura 3.29 mostra os esforços normais nas barras da treliça e o estado de tensões no nó junto ao apoio B.\n",
    "\n",
    "* A força normal na biela comprimida coincide com a obtida por Schlaich et al. (1987), sendo igual a $2,21 MN$.\n",
    "\n",
    "* A tensão normal no nó, na direção da biela comprimida vale $8,11 MPa$, praticamente igual ao valor obtido por Schlaich et al. (1987), igual a $8,10 MPa$."
   ]
  },
  {
   "cell_type": "markdown",
   "id": "10f8dc5b",
   "metadata": {},
   "source": [
    "Figura 3.29 - Esforços normais no modelo de biela prismática.\n",
    "\n",
    "<img src=\"./images3/Schlaich-dir-2-normais.jpg\" alt=\"Modelo de biela - esforços normais\" style=\"width:600px\"/>"
   ]
  },
  {
   "cell_type": "markdown",
   "id": "d96c0771",
   "metadata": {},
   "source": [
    "### 3.3.4 - Análise do lado esquerdo da seção da viga parede"
   ]
  },
  {
   "cell_type": "markdown",
   "id": "8c05824b",
   "metadata": {},
   "source": [
    "* O lado esquerdo da seção da viga parede com furo quadrado pode ser resolvido através da combinação de dois modelos de bielas e tirantes. Por simplicidade considera-se que cada modelo suporte metade da carga da reação $A = 1,07 MN$.\n",
    "\n",
    "#### 3.3.4.1 - Modelo com tirantes horizontais e verticais\n",
    "\n",
    "* O primeiro modelo, com mais elementos, emprega somente tirantes horizontais e verticais combinados com bielas a $45^{\\circ}$, conforme é mostrado na Figura 3.30.\n",
    "\n",
    "* A ideia deste modelo é __suspender__ a carga que flui para a parte inferior da viga parede e levá-la até a outra lateral do furo que funciona como um pilar sob compressão uniaxial. Seu funcionamento é semelhante a um __dente Gerber__.\n",
    "\n",
    "* Para este modelo é aplicada a reação $A/2 = 0,535 MN$ a uma distância de $250 mm$ do ponto de aplicação de $F_u$. Isto é feito para que o momento da reação $A$ em relação a este ponto seja igual a aquele produzido pelo binário $|C/2|=T/2=0,535 MN$\n",
    "\n",
    "* Os esforços normais podem ser observados na Figura 3.31. Embora os modelos sejam ligeiramente diferentes os esforços normais nos tirantes são muito próximos, conforme pode ser constatado na Tabela 3.1."
   ]
  },
  {
   "cell_type": "markdown",
   "id": "20092c82",
   "metadata": {},
   "source": [
    "Figura 3.30 - Modelo com tirantes horizontais e verticais.\n",
    "\n",
    "<img src=\"./images3/Schlaich-esq-1.jpg\" alt=\"Schlaich lado esquerdo - tirantes verticais e horizontais\" style=\"width:600px\"/>\n"
   ]
  },
  {
   "cell_type": "markdown",
   "id": "3c79c2d6",
   "metadata": {},
   "source": [
    "Figura 3.31 - Modelo com tirantes horizontais e verticais - esforços normais.\n",
    "\n",
    "<img src=\"./images3/Schlaich-esq-1-normais.jpg\" alt=\"Cálculo dos esforços na treliça\" style=\"width:600px\"/>"
   ]
  },
  {
   "cell_type": "markdown",
   "id": "9b2110b5",
   "metadata": {},
   "source": [
    "Tabela 3.1 - Comparação dos esforços normais entre o programa CAST e Schlaich et al. (1987).\n",
    "\n",
    "| Tirante | Schlaich (MN) | CAST (MN) |\n",
    "|:----------:|:----------:|:----------:|\n",
    "| T3  | 0,535   | 0,535   |\n",
    "| T4  | 0,535   | 0,535   |\n",
    "| T5  | 1,070   | 1,070   |\n",
    "| T6  | 1,070   | 1,070   |\n",
    "| T7  | 0,535   | 0,535   |\n",
    "| T8  | 0,535   | 0,535   |\n",
    "\n",
    "\n"
   ]
  },
  {
   "cell_type": "markdown",
   "id": "86745877",
   "metadata": {},
   "source": [
    "#### 3.3.4.2 Modelo com tirante inclinado a 45°"
   ]
  },
  {
   "cell_type": "markdown",
   "id": "0dd4b8ff",
   "metadata": {},
   "source": [
    "* O modelo empregando um tirante inclinado a $45^{\\circ}$ é apresentado na Figura 3.31\n",
    "\n",
    "* Novamente, para garantir a estabilidade da treliça as barras E41 e E42 foram adicionadas, porém o esforço normal nestas barras será nulo.\n",
    "\n",
    "* Neste modelo foi aplicada uma carga vertical igual a $A/2 = 0,535 MN$.\n",
    "\n",
    "* A Figura 3.32 apresenta os esforços normais nas barras obtidos pelo programa CAST. \n",
    "\n",
    "* Observe-se que o esforço normal no tirante T9 foi igual a $0,663 MN$, valor idêntico ao obtido por Schlaich et al. (1987). O esforço normal no tirante T2 foi igual a $0,535 MN$, valor coincidente com o de Schlaich et al. (1987).\n",
    "\n",
    "Figura 3.32 - Modelo com tirante inclinado a 45°.\n",
    "\n",
    "<img src=\"./images3/Schlaich-esq-2.jpg\" alt=\"Modelo com tirante inclinado a 45°\" style=\"width:600px\"/>\n",
    "\n",
    "Figura 3.33 - Esforços normais para  o modelo com tirante inclinado a 45°.\n",
    "\n",
    "<img src=\"./images3/Schlaich-esq-2-normais.jpg\" alt=\"Esforços normais para tirante a 45°\" style=\"width:600px\"/>"
   ]
  }
 ],
 "metadata": {
  "colab": {
   "name": "Capítulo_1.ipynb",
   "provenance": []
  },
  "kernelspec": {
   "display_name": "Python 3 (ipykernel)",
   "language": "python",
   "name": "python3"
  },
  "language_info": {
   "codemirror_mode": {
    "name": "ipython",
    "version": 3
   },
   "file_extension": ".py",
   "mimetype": "text/x-python",
   "name": "python",
   "nbconvert_exporter": "python",
   "pygments_lexer": "ipython3",
   "version": "3.12.0"
  }
 },
 "nbformat": 4,
 "nbformat_minor": 5
}
