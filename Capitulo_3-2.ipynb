{
 "cells": [
  {
   "cell_type": "markdown",
   "id": "1dc445f3-8f0f-41b7-a0fa-541467a1d3db",
   "metadata": {
    "id": "1dc445f3-8f0f-41b7-a0fa-541467a1d3db"
   },
   "source": [
    "### Universidade Federal do Rio Grande do Sul - UFRGS"
   ]
  },
  {
   "cell_type": "markdown",
   "id": "27d28d81-ad30-4559-b52d-0fee9ac96cae",
   "metadata": {
    "id": "27d28d81-ad30-4559-b52d-0fee9ac96cae"
   },
   "source": [
    "### Escola de Engenharia - EE"
   ]
  },
  {
   "cell_type": "markdown",
   "id": "103a5401-6849-4ee0-a254-08a7f684a870",
   "metadata": {
    "id": "103a5401-6849-4ee0-a254-08a7f684a870"
   },
   "source": [
    "### Programa de Pós-graduação em Engenharia Civil - PPGEC"
   ]
  },
  {
   "cell_type": "markdown",
   "id": "547b79f5-d7a3-4b02-8ce9-7c1647bff36b",
   "metadata": {
    "id": "547b79f5-d7a3-4b02-8ce9-7c1647bff36b"
   },
   "source": [
    "### Disciplina: Tópicos avançados em concreto - PEC00013"
   ]
  },
  {
   "cell_type": "markdown",
   "id": "189e93bb-f3e5-4536-9aec-d09046d6929b",
   "metadata": {
    "id": "189e93bb-f3e5-4536-9aec-d09046d6929b"
   },
   "source": [
    "### Professor: Dr. Mauro de Vasconcellos Real"
   ]
  },
  {
   "cell_type": "markdown",
   "id": "9187878f-2f69-43a6-9e66-d91991265288",
   "metadata": {},
   "source": [
    "# __Aula 03__"
   ]
  },
  {
   "cell_type": "markdown",
   "id": "ce78f794-4773-4210-bf0c-d89fd0e707f7",
   "metadata": {
    "id": "ce78f794-4773-4210-bf0c-d89fd0e707f7"
   },
   "source": [
    "# __Capítulo 3 - Exemplos de aplicação__ <a name=\"section_3\"></a>"
   ]
  },
  {
   "cell_type": "markdown",
   "id": "a8a51f34",
   "metadata": {},
   "source": [
    "## 3.2 - Console curto - Solução com o programa CAST\n",
    "\n",
    "* Neste item, apresenta-se um exemplo completo de aplicação do método das bielas e dos tirantes para o projeto de console curto, agora empregando o programa CAST, desenvolvido na University of Illinois, nos E.U.A. A Figura 3.11 mostra a tela principal do programa CAST.\n",
    "\n",
    "Figura 3.11 - Tela principal do programa CAST\n",
    "\n",
    "<img src=\"./images3/CAST.jpg\" alt=\"Tela principal do programa CAST\" style=\"width:600px\"/>\n"
   ]
  },
  {
   "cell_type": "markdown",
   "id": "157432c3-c6ac-4105-b5b2-45e3ad381233",
   "metadata": {
    "id": "157432c3-c6ac-4105-b5b2-45e3ad381233"
   },
   "source": [
    "### 3.2.1 Descrição do exemplo de cálculo"
   ]
  },
  {
   "cell_type": "markdown",
   "id": "2c6d70ab",
   "metadata": {},
   "source": [
    "* A Figura 3.12 apresenta as características do console curto simétrico, que será usada como exemplo de aplicação do método das bielas e tirantes com o programa CAST.\n",
    "\n",
    "Figura 3.12 - Console curto simétrico\n",
    "\n",
    "<img src=\"./images3/Corbel-1.jpg\" alt=\"Console curto - geometria\" style=\"width:600px\"/>\n",
    "\n"
   ]
  },
  {
   "cell_type": "markdown",
   "id": "f73cd49d",
   "metadata": {},
   "source": [
    "* O pilar central possui $1000 mm$ de comprimento por $600 mm$ de largura. O trecho total de pilar analisado possui uma altura total de $2100 mm$\n",
    "\n",
    "* Cada console curto possui $500 mm$ de vão, $600 mm$ de altura reta e mais um chanfro de $400 mm$ de altura. A largura dos consoles é a mesma do pilar, ou seja, $600 mm$.\n",
    "\n",
    "* A resistência característica à compressão do concreto foi tomada como $f_{ck} = 35 MPa$ e a resistência característica do aço ao escoamento foi considerada como sendo $f_{yk}= 420 MPa$.\n",
    "\n",
    "* O pilar está submetido a uma força normal de cálculo total igual a $6000 kN$, dividida em duas parcelas de $3000 kN$.\n",
    "\n",
    "* Cada console suporta uma força vertical de cálculo igual a $1000 kN$ e uma força horizontal de cálculo igual a $100 kN$. A força resultante de cálculo equivale a $1005 kN$ com uma inclinação de $5,71^{\\circ}$ com a vertical."
   ]
  },
  {
   "cell_type": "markdown",
   "id": "22bcabab",
   "metadata": {},
   "source": [
    "### 3.2.2 Definição das propriedades dos materiais e da espessura da região D"
   ]
  },
  {
   "cell_type": "markdown",
   "id": "b013f8b8",
   "metadata": {},
   "source": [
    "* Em primeiro lugar deve-se fornecer as propriedades dos materiais e a espessura da região D, Figura 3.13.\n",
    "\n",
    "Figura 3.13 - Propriedades dos materiais e espessura da região D.\n",
    "\n",
    "<img src=\"./images3/CAST-materiais.jpg\" alt=\"CAST - materiais e espessura\" style=\"width:600px\"/>\n",
    "\n",
    "\n"
   ]
  },
  {
   "cell_type": "markdown",
   "id": "152cc7e7",
   "metadata": {},
   "source": [
    "### 3.2.3 - Linhas mestras"
   ]
  },
  {
   "cell_type": "markdown",
   "id": "76645190",
   "metadata": {},
   "source": [
    "* Depois deve-se definir as linhas mestras para o traçado do contorno da região D e para o traçado das bielas e tirantes, conforme mostrado na Figura 3.14."
   ]
  },
  {
   "cell_type": "markdown",
   "id": "52084048",
   "metadata": {},
   "source": [
    "Figura 3.14 - Linhas mestras."
   ]
  },
  {
   "cell_type": "markdown",
   "id": "8e855bf4",
   "metadata": {},
   "source": [
    "<img src=\"./images3/CAST-linhas-mestras.jpg\" alt=\"Linhas mestras\" style=\"width:600px\"/>"
   ]
  },
  {
   "cell_type": "markdown",
   "id": "fd61e0f8",
   "metadata": {},
   "source": [
    "### 3.1.4 - Contorno da região D"
   ]
  },
  {
   "cell_type": "markdown",
   "id": "47493bf4",
   "metadata": {},
   "source": [
    "* A seguir deve-se traçar o contorno da região D, conforme indicado na Figura 3.15"
   ]
  },
  {
   "cell_type": "markdown",
   "id": "e8ad276b",
   "metadata": {},
   "source": [
    "Figura 3.15 - Traçado do contorno da região D.\n",
    "\n",
    "<img src=\"./images3/CAST-contorno.jpg\" alt=\"Contorno da região D\" style=\"width:600px\"/>"
   ]
  },
  {
   "cell_type": "markdown",
   "id": "8187579e",
   "metadata": {},
   "source": [
    "### 3.2.5 - Traçado das bielas e dos tirantes"
   ]
  },
  {
   "cell_type": "markdown",
   "id": "ff60d653",
   "metadata": {},
   "source": [
    "* Em seguida deve-se ir traçando as bielas e os tirantes até atingir a configuração completa da treliça conforme as Figuras 3.16 e 3.17."
   ]
  },
  {
   "cell_type": "markdown",
   "id": "10f8dc5b",
   "metadata": {},
   "source": [
    "Figura 3.16 - Traçado de um elemento da treliça.\n",
    "\n",
    "<img src=\"./images3/CAST-elemento.jpg\" alt=\"Traçado de um elemento\" style=\"width:600px\"/>\n",
    "\n",
    "Figura 3.17 - Traçado do modelo completo da treliça.\n",
    "\n",
    "<img src=\"./images3/CAST-treliça.jpg\" alt=\"Traçado da treliça completa\" style=\"width:600px\"/>"
   ]
  },
  {
   "cell_type": "markdown",
   "id": "d96c0771",
   "metadata": {},
   "source": [
    "### 3.1.6 - Aplicação das cargas e condições de contorno"
   ]
  },
  {
   "cell_type": "markdown",
   "id": "8c05824b",
   "metadata": {},
   "source": [
    "* Para os nós situados sobre o contorno da região D, deverão ser definidas as cargas e condições de apoio.\n",
    "\n",
    "* Observe-se que para os nós onde atuam mais de uma componente de força, a carga deve ser informada a partir da força resultante, com a devida inclinação da mesma.\n",
    "\n",
    "* Para isto deve-se clicar com o botão direito do mouse sobre cada nó de contorno e defini-lo como nó de carga ou de apoio."
   ]
  },
  {
   "cell_type": "markdown",
   "id": "20092c82",
   "metadata": {},
   "source": [
    "Figura 3.18 - Cargas e condições de contorno.\n",
    "\n",
    "<img src=\"./images3/CAST-cargas.jpg\" alt=\"Cargas e condições de contorno\" style=\"width:600px\"/>\n"
   ]
  },
  {
   "cell_type": "markdown",
   "id": "1e0e8ea3",
   "metadata": {},
   "source": [
    "### 3.2.7 - Solução da treliça"
   ]
  },
  {
   "cell_type": "markdown",
   "id": "d11c87af",
   "metadata": {},
   "source": [
    "* A seguir pode-se obter a determinação dos esforços na treliça.\n",
    "\n",
    "* Um cuidado importante é que todos os movimentos de corpo rígido da treliça devem ser restringidos, para que a solução seja possível!\n",
    "\n",
    "* Isto exige, em certos casos, a introdução de elementos estabilizadores, como os elementos E13 e E14, que não sofrerão esforço normal, mas manterão a treliça estável.\n",
    "\n",
    "* A Figura 3.19 apresenta a solução dos esforços na treliça."
   ]
  },
  {
   "cell_type": "markdown",
   "id": "3c79c2d6",
   "metadata": {},
   "source": [
    "Figura 3.19 - Solução dos esforços na treliça.\n",
    "\n",
    "<img src=\"./images3/CAST-solução.jpg\" alt=\"Cálculo dos esforços na treliça\" style=\"width:600px\"/>"
   ]
  },
  {
   "cell_type": "markdown",
   "id": "0dd4b8ff",
   "metadata": {},
   "source": [
    "### 3.2.8 - Verificação das tensões nas bielas, tirantes e nos nós\n",
    "\n",
    "* Uma vez definidos os esforços normais nas barras da treliça, pode-se verificar as tensões nas bielas, nos tirantes e nos nós, para avaliar se nenhuma tensão limite dos materias foi atingida.\n",
    "\n",
    "* Antes disso, é preciso definir as bielas conforme a Figura 3.20, os tirantes como indicado na Figura 3.21 e os nós de acordo com a Figura 3.22.\n",
    "\n",
    "* A Figura 3.23 apresenta a verificação das tensões na treliça. Os números entre parênteses indicam o percentual da tensão limite do material que foi atingido em cada barra. O mesmo pode ser avaliado para cada nó da treliça.\n",
    "\n",
    "Figura 3.20 - Definição das bielas.\n",
    "\n",
    "<img src=\"./images3/CAST-bielas.jpg\" alt=\"Definição das bielas da treliça\" style=\"width:600px\"/>\n",
    "\n",
    "Figura 3.21 - Definição dos tirantes.\n",
    "\n",
    "<img src=\"./images3/CAST-tirantes.jpg\" alt=\"Definição dos tirantes da treliça\" style=\"width:600px\"/>\n",
    "\n",
    "Figura 3.22 - Definição dos nós bielas.\n",
    "\n",
    "<img src=\"./images3/CAST-nós.jpg\" alt=\"Definição dos nós da treliça\" style=\"width:600px\"/>\n",
    "\n",
    "Figura 3.23 - Verificação das tensões.\n",
    "\n",
    "<img src=\"./images3/CAST-verificação.jpg\" alt=\"Verificação das tensões na treliça\" style=\"width:600px\"/>\n"
   ]
  }
 ],
 "metadata": {
  "colab": {
   "name": "Capítulo_1.ipynb",
   "provenance": []
  },
  "kernelspec": {
   "display_name": "Python 3 (ipykernel)",
   "language": "python",
   "name": "python3"
  },
  "language_info": {
   "codemirror_mode": {
    "name": "ipython",
    "version": 3
   },
   "file_extension": ".py",
   "mimetype": "text/x-python",
   "name": "python",
   "nbconvert_exporter": "python",
   "pygments_lexer": "ipython3",
   "version": "3.12.0"
  }
 },
 "nbformat": 4,
 "nbformat_minor": 5
}
