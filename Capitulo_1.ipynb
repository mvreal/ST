{
 "cells": [
  {
   "cell_type": "markdown",
   "id": "1dc445f3-8f0f-41b7-a0fa-541467a1d3db",
   "metadata": {
    "id": "1dc445f3-8f0f-41b7-a0fa-541467a1d3db"
   },
   "source": [
    "### Universidade Federal do Rio Grande do Sul - UFRGS"
   ]
  },
  {
   "cell_type": "markdown",
   "id": "27d28d81-ad30-4559-b52d-0fee9ac96cae",
   "metadata": {
    "id": "27d28d81-ad30-4559-b52d-0fee9ac96cae"
   },
   "source": [
    "### Escola de Engenharia - EE"
   ]
  },
  {
   "cell_type": "markdown",
   "id": "103a5401-6849-4ee0-a254-08a7f684a870",
   "metadata": {
    "id": "103a5401-6849-4ee0-a254-08a7f684a870"
   },
   "source": [
    "### Programa de Pós-graduação em Engenharia Civil - PPGEC"
   ]
  },
  {
   "cell_type": "markdown",
   "id": "547b79f5-d7a3-4b02-8ce9-7c1647bff36b",
   "metadata": {
    "id": "547b79f5-d7a3-4b02-8ce9-7c1647bff36b"
   },
   "source": [
    "### Disciplina: Tópicos avançados em concreto - PEC00013"
   ]
  },
  {
   "cell_type": "markdown",
   "id": "189e93bb-f3e5-4536-9aec-d09046d6929b",
   "metadata": {
    "id": "189e93bb-f3e5-4536-9aec-d09046d6929b"
   },
   "source": [
    "### Professor: Dr. Mauro de Vasconcellos Real"
   ]
  },
  {
   "cell_type": "markdown",
   "id": "9187878f-2f69-43a6-9e66-d91991265288",
   "metadata": {},
   "source": [
    "# __Aula 01__"
   ]
  },
  {
   "cell_type": "markdown",
   "id": "ce78f794-4773-4210-bf0c-d89fd0e707f7",
   "metadata": {
    "id": "ce78f794-4773-4210-bf0c-d89fd0e707f7"
   },
   "source": [
    "# __Capítulo 1 - Introdução__ <a name=\"section_1\"></a>"
   ]
  },
  {
   "cell_type": "markdown",
   "id": "157432c3-c6ac-4105-b5b2-45e3ad381233",
   "metadata": {
    "id": "157432c3-c6ac-4105-b5b2-45e3ad381233"
   },
   "source": [
    "* As partes de uma estrutura de concreto armado, nas quais se aplica a __hipótese de Bernoulli__ da distribuição linear de deformações, são normalmente projetadas com uma precisão praticamente absoluta. \n"
   ]
  },
  {
   "cell_type": "markdown",
   "id": "2c1f17c5",
   "metadata": {},
   "source": [
    "* Um exemplo disto é o comportamento de uma viga esbelta de concreto armado sob carregamento crescente, conforme mostrado nas figuras abaixo.\n",
    "* Na Figura 1, tem-se a distribuição de tensões principais em uma viga esbelta no Estádio I."
   ]
  },
  {
   "cell_type": "markdown",
   "id": "a90fa22d",
   "metadata": {},
   "source": [
    "Figura 1 - Viga esbelta de concreto armado no Estádio I "
   ]
  },
  {
   "cell_type": "markdown",
   "id": "4e3eb7d3-b94e-42a7-9967-eb43d228c585",
   "metadata": {
    "id": "4e3eb7d3-b94e-42a7-9967-eb43d228c585"
   },
   "source": [
    "<img src=\"./images1/viga-a.jpg\" alt=\"viga-a\" style=\"width:500px\"/>"
   ]
  },
  {
   "cell_type": "markdown",
   "id": "b72536a7",
   "metadata": {},
   "source": [
    "<font size=\"-1\">Fonte: Leonhardt, F. & Mönnig, E. Construções de Concreto, Vol. 1. Rio de Janeiro, Interciência, 2008</font>"
   ]
  },
  {
   "cell_type": "markdown",
   "id": "c59887ee",
   "metadata": {},
   "source": [
    "* Na Figura 2, tem-se o comportamento da viga no Estádio I, seção não fissurada, e no Estádio II, seção fissurada."
   ]
  },
  {
   "cell_type": "markdown",
   "id": "6cfc164e",
   "metadata": {},
   "source": [
    "Figura 2 - Viga esbelta de concreto armado em parte no Estádio I e em parte no Estádio II."
   ]
  },
  {
   "cell_type": "markdown",
   "id": "3ee27704",
   "metadata": {},
   "source": [
    "<img src=\"./images1/viga-b.jpg\" alt=\"viga-b\" style=\"width:500px\"/>"
   ]
  },
  {
   "cell_type": "markdown",
   "id": "bc158ed2",
   "metadata": {},
   "source": [
    "<font size=\"-1\">Fonte: Leonhardt, F. & Mönnig, E. Construções de Concreto, Vol. 1. Rio de Janeiro, Interciência, 2008</font>"
   ]
  },
  {
   "cell_type": "markdown",
   "id": "44de5aac-973b-4f8c-80e4-d7ce8e9fdf69",
   "metadata": {
    "id": "44de5aac-973b-4f8c-80e4-d7ce8e9fdf69"
   },
   "source": [
    "* Na Figura 3, tem o comportamento da viga esbelta de concreto armado no Estádio III, nas imediações da ruptura."
   ]
  },
  {
   "cell_type": "markdown",
   "id": "697f5fec",
   "metadata": {},
   "source": [
    "Figura 3 - Viga esbelta de concreto armado no Estádio III."
   ]
  },
  {
   "cell_type": "markdown",
   "id": "fc69676b",
   "metadata": {},
   "source": [
    "<img src=\"./images1/viga-c.jpg\" alt=\"viga-c\" style=\"width:500px\"/>"
   ]
  },
  {
   "cell_type": "markdown",
   "id": "bbbfa7ea",
   "metadata": {},
   "source": [
    "<font size=\"-1\">Fonte: Leonhardt, F. & Mönnig, E. Construções de Concreto, Vol. 1. Rio de Janeiro, Interciência, 2008</font>"
   ]
  },
  {
   "cell_type": "markdown",
   "id": "8e9132cb",
   "metadata": {},
   "source": [
    "* Portanto, a partir da __hipótese das seções planas__ é possível determinar a distribuição de deformações ao longo da altura da seção e, com as relações tensão-deformação apropriadas, calcular a distribuição de tensões. \n",
    "* O problema fica perfeitamente resolvido."
   ]
  },
  {
   "cell_type": "markdown",
   "id": "f2f917a9-9329-465e-8b58-b8da595961c7",
   "metadata": {
    "id": "f2f917a9-9329-465e-8b58-b8da595961c7"
   },
   "source": [
    "* Entretanto, outras partes da estrutura, onde ocorrem descontinuidades de natureza estática ou geométrica, como pontos de aplicação de cargas concentradas, nós de pórticos, aberturas, etc., eram projetadas, até alguns anos atrás, por regras empíricas, baseadas na experiência. Estes “detalhes”, contudo, têm a mesma importância para o comportamento e a segurança das estruturas."
   ]
  },
  {
   "cell_type": "markdown",
   "id": "4170d66f",
   "metadata": {},
   "source": [
    "* A Figura 4 mostra o estado complexo de tensões em um nó de pórtico (a), em um consolo curto (b) e em uma viga-parede, que não pode ser obtido a partir da __hipótese de Bernoulli__."
   ]
  },
  {
   "cell_type": "markdown",
   "id": "7e3e6c58",
   "metadata": {},
   "source": [
    "Figura 4 - Partes de uma estrutura onde não se aplica a __hipótese de Bernoulli__."
   ]
  },
  {
   "cell_type": "markdown",
   "id": "bee17e91",
   "metadata": {},
   "source": [
    "<img src=\"./images1/regiões-D.jpg\" alt=\"regiões D\" style=\"width:900px\"/>"
   ]
  },
  {
   "cell_type": "markdown",
   "id": "a8e74111",
   "metadata": {},
   "source": [
    "<font size=\"-1\">Fonte: Leonhardt, F. & Mönnig, E. Construções de Concreto, Vol. 2. Rio de Janeiro, Interciência, 2008 (adaptada)</font>"
   ]
  },
  {
   "cell_type": "markdown",
   "id": "4687fbb6",
   "metadata": {},
   "source": [
    "* A qualidade do projeto ficava limitada pela pouca precisão com que eram projetadas estas partes.\n",
    "\n",
    "* Existia, assim, a necessidade de se aplicar um conceito de projeto que fosse consistente (coerente) e válido para todos tipos de estruturas e todas suas partes"
   ]
  },
  {
   "cell_type": "markdown",
   "id": "5ff56506",
   "metadata": {},
   "source": [
    "* Este modelo para ser satisfatório deveria, ainda, ser baseado em modelos físicos realísticos. Dentro deste espírito, os modelos das bielas e dos tirantes (strut and ties models) são uma generalização da analogia da treliça para vigas e possibilitam o dimensionamento e o detalhamento das estruturas de concreto.\n",
    "\n",
    "* Esta proposta se justifica pelo fato de que as estruturas de concreto suportam cargas através de um conjunto de campos de tensões de compressão, que são distribuídos e interligados por tirantes tracionados. \n",
    "\n",
    "* Estes tirantes podem ser barras de armadura, cabos de protensão ou mesmo campos de tensões de tração. Por propósitos analíticos, os modelos de bielas e tirantes concentram todos os esforços em elementos comprimidos e tracionados, ligados entre si por nós.\n"
   ]
  },
  {
   "cell_type": "markdown",
   "id": "409eacc5-78a9-47ea-93e9-3a7e9c3d8585",
   "metadata": {
    "id": "409eacc5-78a9-47ea-93e9-3a7e9c3d8585"
   },
   "source": [
    "* Conforme apresentado nas seguintes publicações:\n",
    "\n",
    "* __COMITÉ EURO-INTERNATIONAL DU BÉTON. Detailing of Concrete Structures.  Paris, 1982 (Bulletin d’Information, 150)__.\n",
    "\n",
    "* __SCHLAICH, J.; SCHÄFER, K. & JENNEWEIN, M.  Toward a Consistent Design of Structural Concrete.  PCI Journal, May-June, 1987. v. 32, n. 3, p.75-150__.\n"
   ]
  },
  {
   "cell_type": "markdown",
   "id": "cbc08c8c-6d69-4a2d-8619-717624e9a325",
   "metadata": {
    "id": "cbc08c8c-6d69-4a2d-8619-717624e9a325"
   },
   "source": [
    "* Os modelos de bielas e tirantes podem ser desenvolvidos a partir do estabelecimento do fluxo de tensões no interior de uma estrutura, que pode ser obtido por uma análise elástica linear através do Método dos Elementos Finitos. \n",
    "\n",
    "* Assim, tem-se um procedimento de projeto consistente para esta estrutura, quando os elementos tracionados e comprimidos (incluindo seus nós), são projetados utilizando-se um critério uniforme de segurança.\n",
    "\n",
    "* A Figura 6 apresenta possíveis modelos de bielas e tirantes para nós de pórtico (a), consolos curtos (b), e vigas-paredes (c)."
   ]
  },
  {
   "cell_type": "markdown",
   "id": "8db8160d",
   "metadata": {},
   "source": [
    "Figura 6 - Modelos de bielas e tirantes: (a) nós de pórtico, (b) consolos curtos, e (c) vigas-paredes (c)"
   ]
  },
  {
   "cell_type": "markdown",
   "id": "7e778b33",
   "metadata": {},
   "source": [
    "<img src=\"./images1/bielas-e-tirantes.jpg\" alt=\"bielas e tirantes\" style=\"width:900px\"/>"
   ]
  },
  {
   "cell_type": "markdown",
   "id": "411833a0",
   "metadata": {},
   "source": [
    "<font size=\"-1\">Fonte: SCHLAICH, J.; SCHÄFER, K. & JENNEWEIN, M.  Toward a Consistent Design of Structural Concrete.  PCI Journal, May-June, 1987. v. 32, n. 3, p.75-150 (adaptada)</font>"
   ]
  },
  {
   "cell_type": "markdown",
   "id": "61135cfa-05ca-492c-98d6-58875ace357d",
   "metadata": {
    "id": "61135cfa-05ca-492c-98d6-58875ace357d"
   },
   "source": [
    "* Os modelos de bielas e tirantes permitem, também, estabelecer o detalhamento mais adequado para uma estrutura, substituindo procedimentos empíricos e regras baseadas na experiência por uma metodologia racional de projeto.\n",
    "\n",
    "* Neste curso, apresenta-se uma introdução à utilização dos modelos de bielas e tirantes, mostrando-se  como desenvolver sistematicamente estes modelos e as regras para o dimensionamento dos elementos do modelo\n"
   ]
  }
 ],
 "metadata": {
  "colab": {
   "name": "Capítulo_1.ipynb",
   "provenance": []
  },
  "kernelspec": {
   "display_name": "Python 3 (ipykernel)",
   "language": "python",
   "name": "python3"
  },
  "language_info": {
   "codemirror_mode": {
    "name": "ipython",
    "version": 3
   },
   "file_extension": ".py",
   "mimetype": "text/x-python",
   "name": "python",
   "nbconvert_exporter": "python",
   "pygments_lexer": "ipython3",
   "version": "3.10.9"
  }
 },
 "nbformat": 4,
 "nbformat_minor": 5
}
