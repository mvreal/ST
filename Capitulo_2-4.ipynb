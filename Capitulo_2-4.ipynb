{
 "cells": [
  {
   "cell_type": "markdown",
   "id": "1dc445f3-8f0f-41b7-a0fa-541467a1d3db",
   "metadata": {
    "id": "1dc445f3-8f0f-41b7-a0fa-541467a1d3db"
   },
   "source": [
    "### Universidade Federal do Rio Grande do Sul - UFRGS"
   ]
  },
  {
   "cell_type": "markdown",
   "id": "27d28d81-ad30-4559-b52d-0fee9ac96cae",
   "metadata": {
    "id": "27d28d81-ad30-4559-b52d-0fee9ac96cae"
   },
   "source": [
    "### Escola de Engenharia - EE"
   ]
  },
  {
   "cell_type": "markdown",
   "id": "103a5401-6849-4ee0-a254-08a7f684a870",
   "metadata": {
    "id": "103a5401-6849-4ee0-a254-08a7f684a870"
   },
   "source": [
    "### Programa de Pós-graduação em Engenharia Civil - PPGEC"
   ]
  },
  {
   "cell_type": "markdown",
   "id": "547b79f5-d7a3-4b02-8ce9-7c1647bff36b",
   "metadata": {
    "id": "547b79f5-d7a3-4b02-8ce9-7c1647bff36b"
   },
   "source": [
    "### Disciplina: Tópicos avançados em concreto - PEC00013"
   ]
  },
  {
   "cell_type": "markdown",
   "id": "189e93bb-f3e5-4536-9aec-d09046d6929b",
   "metadata": {
    "id": "189e93bb-f3e5-4536-9aec-d09046d6929b"
   },
   "source": [
    "### Professor: Dr. Mauro de Vasconcellos Real"
   ]
  },
  {
   "cell_type": "markdown",
   "id": "9187878f-2f69-43a6-9e66-d91991265288",
   "metadata": {},
   "source": [
    "# __Aula 04__"
   ]
  },
  {
   "cell_type": "markdown",
   "id": "ce78f794-4773-4210-bf0c-d89fd0e707f7",
   "metadata": {
    "id": "ce78f794-4773-4210-bf0c-d89fd0e707f7"
   },
   "source": [
    "# __Capítulo 2 - Desenvolvimento dos modelos de bielas e tirantes__ <a name=\"section_2\"></a>"
   ]
  },
  {
   "cell_type": "markdown",
   "id": "a8a51f34",
   "metadata": {},
   "source": [
    "## 2.4 - Dimensionamento das bielas, tirantes e nós\n",
    "\n",
    "### 2.4.1 - Definições"
   ]
  },
  {
   "cell_type": "markdown",
   "id": "157432c3-c6ac-4105-b5b2-45e3ad381233",
   "metadata": {
    "id": "157432c3-c6ac-4105-b5b2-45e3ad381233"
   },
   "source": [
    "* Dimensionar não significa apenas escolher uma seção transversal capaz de resistir aos esforços nas bielas e tirantes, mas também assegurar que exista uma transferência de carga entre estes elementos, através da uma verificação das regiões nodais.\n",
    "\n",
    "* Existem basicamente três tipos de bielas e tirantes a serem dimensionados:\n",
    "\n",
    "Cc: bielas de concreto em compressão;\n",
    "\n",
    "Tc: tirantes de concreto em tração sem armadura;\n",
    "\n",
    "Ts: tirantes em tração com armadura."
   ]
  },
  {
   "cell_type": "markdown",
   "id": "152cc7e7",
   "metadata": {},
   "source": [
    "### 2.4.2 - Bielas e Tirantes\n",
    "\n",
    "* Os elementos __Ts__ são essencialmente elementos lineares ou unidimensionais entre dois nós, enquanto __Cc__ e __Tc__ são campos de tensão bi ou tridimensionais, entre dois nós adjacentes. \n",
    "\n",
    "* Estes campos de tensão podem ter tensões de tração ou compressão transversal, que devem ser consideradas introduzindo-se estas tensões no critério de ruptura das bielas __Cc__ e dos tirantes __Tc__ ou aplicando-se novamente o modelo de bielas e tirantes a eles."
   ]
  },
  {
   "cell_type": "markdown",
   "id": "78475fb4",
   "metadata": {},
   "source": [
    "#### (1) -  Bielas comprimidas de concreto - campos de tensão __Cc__\n",
    "\n",
    "* Três configurações típicas são suficientes para cobrir todos os casos de campos de compressão, incluindo os que aparecem nas regiões __B__."
   ]
  },
  {
   "cell_type": "markdown",
   "id": "48b1b165",
   "metadata": {},
   "source": [
    "* (a) O campo de tensões em forma de leque (\"fan\")\n",
    "\n",
    "É uma idealização de um campo de tensões com uma curvatura desprezível, sem tensões transversais, conforme mostrado na Figura 2.8."
   ]
  },
  {
   "cell_type": "markdown",
   "id": "181b67bd",
   "metadata": {},
   "source": [
    "Figura 2.8 - Campo de tensões em forma de leque (\"fan\")"
   ]
  },
  {
   "cell_type": "markdown",
   "id": "ae2cbcd1",
   "metadata": {},
   "source": [
    "<img src=\"./images2/leque.jpg\" alt=\"campo de tensões em leque\" style=\"width:200px\"/>"
   ]
  },
  {
   "cell_type": "markdown",
   "id": "0f5a1807",
   "metadata": {},
   "source": [
    "<font size=\"-1\">Fonte: SCHLAICH, J.; SCHÄFER, K. & JENNEWEIN, M.  Toward a Consistent Design of Structural Concrete.  PCI Journal, May-June, 1987. v. 32, n. 3, p.75-150 (adaptada)</font>"
   ]
  },
  {
   "cell_type": "markdown",
   "id": "2c1f17c5",
   "metadata": {},
   "source": [
    "* (b) O campo de tensões em forma de garrafa (“bottle”):\n",
    "\n",
    "Este campo de tensões apresenta tensões transversais consideráveis: compressão no pescoço da garrafa e tração na base (as tensões transversais podem causar o aparecimento de fissuras longitudinais, indicando a necessidade de armadura). O campo de tensões em forma de garrafa (“bottle”) é mostrado na Figura 2.9."
   ]
  },
  {
   "cell_type": "markdown",
   "id": "433d7353",
   "metadata": {},
   "source": [
    "Figura 2.9 - Campo de tensões em forma de garrafa (\"bottle\")."
   ]
  },
  {
   "cell_type": "markdown",
   "id": "261e3847",
   "metadata": {},
   "source": [
    "<img src=\"./images2/garrafa.jpg\" alt=\"campo de tensões em garrafa\" style=\"width:200px\"/>\n"
   ]
  },
  {
   "cell_type": "markdown",
   "id": "a83a9a72",
   "metadata": {},
   "source": [
    "<font size=\"-1\">Fonte: SCHLAICH, J.; SCHÄFER, K. & JENNEWEIN, M.  Toward a Consistent Design of Structural Concrete.  PCI Journal, May-June, 1987. v. 32, n. 3, p.75-150 (adaptada)</font>"
   ]
  },
  {
   "cell_type": "markdown",
   "id": "f2f917a9-9329-465e-8b58-b8da595961c7",
   "metadata": {
    "id": "f2f917a9-9329-465e-8b58-b8da595961c7"
   },
   "source": [
    "* (c) O campo de tensões em forma de prisma (“prism”):\n",
    "\n",
    "O campo de tensões prismático ou paralelo é um caso particular dos dois prece-dentes e é típico das regiões __B__. Este tipo de campo de tensões é mostrado na Figura 2.10.\n"
   ]
  },
  {
   "cell_type": "markdown",
   "id": "8e02ebf0",
   "metadata": {},
   "source": [
    "Figura 2.10 - Campo de tensões em forma de prisma."
   ]
  },
  {
   "cell_type": "markdown",
   "id": "d87f0be8",
   "metadata": {},
   "source": [
    "<img src=\"./images2/prisma.jpg\" alt=\"campo de tensões em prisma\" style=\"width:200px\"/>\n"
   ]
  },
  {
   "cell_type": "markdown",
   "id": "8353836d",
   "metadata": {},
   "source": [
    "<font size=\"-1\">Fonte: SCHLAICH, J.; SCHÄFER, K. & JENNEWEIN, M.  Toward a Consistent Design of Structural Concrete.  PCI Journal, May-June, 1987. v. 32, n. 3, p.75-150 (adaptada)</font>"
   ]
  },
  {
   "cell_type": "markdown",
   "id": "4687fbb6",
   "metadata": {},
   "source": [
    "* Os campos de tensão em forma de leque e prismático não desenvolvem tensões transversais e em sua verificação utiliza-se a resistência uniaxial de cálculo do concreto $\\sigma_{cd} = 0,85 f_{cd}$. \n",
    "\n",
    "* Já para campos de tensão em forma de garrafa, deve ser empregado um critério de ruptura multiaxial, conforme o apresentado na Figura 2.11.\n",
    "\n",
    "Figura 2.11 - Envoltória de ruptura biaxial do concreto\n",
    "\n",
    "<img src=\"./images2/biaxial.jpg\" alt=\"envoltória biaxial de resistência do concreto\" style=\"width:300px\"/>\n",
    "\n",
    "<font size=\"-1\">Fonte: SCHLAICH, J.; SCHÄFER, K. & JENNEWEIN, M.  Toward a Consistent Design of Structural Concrete.  PCI Journal, May-June, 1987. v. 32, n. 3, p.75-150 (adaptada)</font>\n",
    "\n",
    "\n",
    "* A resistência do concreto em campos de tensão de compressão depende do estado multiaxial de tensões e da presença de fissuras e armaduras. \n",
    "\n",
    "* Para o dimensionamento, pode-se usar a seguinte regra prática, através do emprego do valor da resistência de cálculo $f_{cd}^*$:\n",
    "\n",
    "$f_{cd}^* = 1,0 \\sigma_{cd}$ - para um estado uniaxial de tensões;\n",
    "\n",
    "$f_{cd}^* = 0,8 \\sigma_{cd}$ - para campos de tensão de compressão com fissuras paralelas às tensões de compressão;\n",
    "\n",
    "$f_{cd}^* = 0,6 \\sigma_{cd}$ - para campos de compressão com fissuras inclinadas."
   ]
  },
  {
   "cell_type": "markdown",
   "id": "b397173d",
   "metadata": {},
   "source": [
    "* Estes valores são válidos para concreto estrutural, com as limitações de aberturas de fissuras que aparecem usualmente nas normas. \t\n",
    "\n",
    " * Os valores referentes ao concreto fissurado devem também ser aplicados ao concreto com tensões de tração transversal abaixo da resistência à tração e quando uma armadura de tração cruzar o campo de tensão.\n",
    "\n",
    " * Não deverão aparecer fissuras inclinadas, se a teoria da elasticidade for seguida durante a modelagem. \n",
    "\n",
    "* Entretanto, as fissuras inclinadas podem aparecer, caso se tenha uma situação de carga diversa daquela que originou o modelo.\n",
    "\n",
    "* Pode-se considerar um aumento da resistência para estados de tensão de compressão bi ou tridimensionais, caso se tenha certeza da ocorrência das tensões de compressão transversais. \n",
    "\n",
    "* Isto ocorre, por exemplo, em regiões confinadas. O confinamento pode ser obtido utilizando-se uma armadura transversal ou quando um volume considerável de concreto envolve um campo de compressão."
   ]
  },
  {
   "cell_type": "markdown",
   "id": "a0c10be0",
   "metadata": {},
   "source": [
    "#### (2) -  Tirantes tracionados de concreto - campos de tensão __Tc__"
   ]
  },
  {
   "cell_type": "markdown",
   "id": "52492415",
   "metadata": {},
   "source": [
    "* No caso de campos de tensão tração não fissurados, a resistência à tração deve ser utilizada. \n",
    "\n",
    "* Usando o fluxo de forças para construção dos modelos de bielas e tirantes, ocorrem situações em que o equilíbrio só pode ser satisfeito, se a resistência do concreto à tração for considerada. \n",
    "\n",
    "* Nenhuma ancoragem, nenhum gancho, nenhum nó de pórtico, nenhuma laje sem estribo ou, mais genericamente, nenhuma biela não armada ou elemento comprimido pode trabalhar sem usar a resistência à tração do concreto. \n",
    "\n",
    "* Infelizmente, a maioria das normas não reconhece este fato, substituindo a resistência à tração por aderência, cisalhamento e outros nomes.\n",
    "\n",
    "* Deve-se considerar, em cada caso, qual fração da resistência à tração pode ser usada para suportar cargas e qual fração deve ser usada para tensões decorrentes da retração e da variação de temperatura. Se o campo de tensões de tração é cruzado por um campo de compressão, deve-se adotar uma resistência reduzida."
   ]
  },
  {
   "cell_type": "markdown",
   "id": "35ceebb5",
   "metadata": {},
   "source": [
    "#### (3) -  Tirantes de armadura - __Ts__\n",
    "\n",
    "* As armaduras são colocadas para resistir esforços de tração. \n",
    "\n",
    "* O eixo da armadura deve coincidir com o eixo do tirante do modelo. \n",
    "\n",
    "* O dimensionamento destes tirantes é feito por:"
   ]
  },
  {
   "cell_type": "markdown",
   "id": "418a8fcd",
   "metadata": {},
   "source": [
    "$$ A_{s} = \\frac{T_s}{f_{yd}}$$"
   ]
  },
  {
   "cell_type": "markdown",
   "id": "9cf4b089",
   "metadata": {},
   "source": [
    "onde:\n",
    "\n",
    "$A_s$ - é a área de aço necessária no tirante;\n",
    "\n",
    "$T_s$ - é o esforço normal de tração no tirante;\n",
    "\n",
    "$f_{yd}$ é a resistência ao escoamento de cálculo do aço empregado na armadura do tirante."
   ]
  },
  {
   "cell_type": "markdown",
   "id": "05b14468",
   "metadata": {},
   "source": [
    "### 2.4.3 - Os nós"
   ]
  },
  {
   "cell_type": "markdown",
   "id": "6b55c1d1",
   "metadata": {},
   "source": [
    "* Os nós do modelo são uma idealização simplificada da realidade. \n",
    "\n",
    "* Eles aparecem nas interseções de três ou mais bielas ou tirantes retos. \n",
    "\n",
    "* Ao introduzir-se um nó em um modelo, deseja-se representar uma mudança abrupta na direção das forças. \n",
    "\n",
    "* Em uma estrutura real de concreto este desvio ocorre ao longo de um certo comprimento.\n",
    "\n",
    "* Os nós podem ser classificados em:\n",
    "\n",
    "(a) singulares ou concentrados;\n",
    "                    \n",
    "(b) distribuídos ou contínuos."
   ]
  },
  {
   "cell_type": "markdown",
   "id": "3bc023ec",
   "metadata": {},
   "source": [
    "* Um nó é dito __singular__ se uma das bielas ou dos tirantes, que se ligam em um determinado nó, representa um campo de tensões concentrado. \n",
    "\n",
    "* Por outro lado, um nó é __distribuído__, quando se têm campos de tensão no concreto de certa largura, ligando-se a outros de mesmo tipo ou com tirantes tracionados, que consistam de muitas barras de armadura distribuídas.\n",
    "\n",
    "* __Os nós distribuídos não são críticos__ e é suficiente verificar a ancoragem das barras de armadura e se as fibras mais externas dos campos de tensões de compressão têm em seus desvios barras de armadura.\n"
   ]
  },
  {
   "cell_type": "markdown",
   "id": "6bbc1281",
   "metadata": {},
   "source": [
    "A Figura 2.12 serve para ilustrar os nós distribuídos (1) e os nós singulares (2) em uma região __D__."
   ]
  },
  {
   "cell_type": "markdown",
   "id": "91d0cf26",
   "metadata": {},
   "source": [
    "Figura 2.12 - Tipos de nós: (1) distribuídos, (2) singulares."
   ]
  },
  {
   "cell_type": "markdown",
   "id": "6c3b4bf2",
   "metadata": {},
   "source": [
    "<img src=\"./images2/tipos-de-nós.jpg\" alt=\"nós singulares e distribuídos\" style=\"width:750px\"/>\n"
   ]
  },
  {
   "cell_type": "markdown",
   "id": "f04d7860",
   "metadata": {},
   "source": [
    "<font size=\"-1\">Fonte: SCHLAICH, J.; SCHÄFER, K. & JENNEWEIN, M.  Toward a Consistent Design of Structural Concrete.  PCI Journal, May-June, 1987. v. 32, n. 3, p.75-150 (adaptada)</font>"
   ]
  },
  {
   "cell_type": "markdown",
   "id": "2273325e",
   "metadata": {},
   "source": [
    "* Já os nós singulares devem ser analisados com maior cuidado. \n",
    "\n",
    "* A verificação destes nós deve atender os seguintes aspectos:\n",
    "\n",
    "* As tensões médias de compressão nos contornos da região nodal não devem ultrapassar os valores:\n",
    "\n",
    "$f_{cd}^* = 1,1 \\sigma_{cd}$ nos nós onde apenas tensões de compressão se encontram, criando um estado de tensões bi ou tridimensional.\n",
    "\n",
    "$f_{cd}^* = 0,8 \\sigma_{cd}$ nos nós onde as barras tracionadas são ancoradas, deve-se fazer um desconto na resistência.\n",
    "\n",
    "* Deve-se verificar a ancoragem dos tirantes nos nós com relação ao raio mínimo de curvatura das barras e ao comprimento de ancoragem das barras, conforme as normas.\n"
   ]
  },
  {
   "cell_type": "markdown",
   "id": "e7396dc5",
   "metadata": {},
   "source": [
    "### 2.4.4 - Regra Geral\n",
    "\n",
    "* Caso os nós singulares forem resultantes de afunilamento de campos de tensões, pode-se considerar que uma região __D__ é segura, se a pressão sob a mais solicitada placa de apoio for menor do que $f_{cd}^* = 0,6 \\sigma_{cd}$ e se todos os esforços significativos de tração forem resistidos por armaduras e estas forem ancoradas adequadamente.\n"
   ]
  }
 ],
 "metadata": {
  "colab": {
   "name": "Capítulo_1.ipynb",
   "provenance": []
  },
  "kernelspec": {
   "display_name": "Python 3 (ipykernel)",
   "language": "python",
   "name": "python3"
  },
  "language_info": {
   "codemirror_mode": {
    "name": "ipython",
    "version": 3
   },
   "file_extension": ".py",
   "mimetype": "text/x-python",
   "name": "python",
   "nbconvert_exporter": "python",
   "pygments_lexer": "ipython3",
   "version": "3.10.9"
  }
 },
 "nbformat": 4,
 "nbformat_minor": 5
}
