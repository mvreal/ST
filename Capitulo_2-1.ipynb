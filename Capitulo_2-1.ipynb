{
 "cells": [
  {
   "cell_type": "markdown",
   "id": "1dc445f3-8f0f-41b7-a0fa-541467a1d3db",
   "metadata": {
    "id": "1dc445f3-8f0f-41b7-a0fa-541467a1d3db"
   },
   "source": [
    "### Universidade Federal do Rio Grande do Sul - UFRGS"
   ]
  },
  {
   "cell_type": "markdown",
   "id": "27d28d81-ad30-4559-b52d-0fee9ac96cae",
   "metadata": {
    "id": "27d28d81-ad30-4559-b52d-0fee9ac96cae"
   },
   "source": [
    "### Escola de Engenharia - EE"
   ]
  },
  {
   "cell_type": "markdown",
   "id": "103a5401-6849-4ee0-a254-08a7f684a870",
   "metadata": {
    "id": "103a5401-6849-4ee0-a254-08a7f684a870"
   },
   "source": [
    "### Programa de Pós-graduação em Engenharia Civil - PPGEC"
   ]
  },
  {
   "cell_type": "markdown",
   "id": "547b79f5-d7a3-4b02-8ce9-7c1647bff36b",
   "metadata": {
    "id": "547b79f5-d7a3-4b02-8ce9-7c1647bff36b"
   },
   "source": [
    "### Disciplina: Tópicos avançados em concreto - PEC00013"
   ]
  },
  {
   "cell_type": "markdown",
   "id": "189e93bb-f3e5-4536-9aec-d09046d6929b",
   "metadata": {
    "id": "189e93bb-f3e5-4536-9aec-d09046d6929b"
   },
   "source": [
    "### Professor: Dr. Mauro de Vasconcellos Real"
   ]
  },
  {
   "cell_type": "markdown",
   "id": "9187878f-2f69-43a6-9e66-d91991265288",
   "metadata": {},
   "source": [
    "# __Aula 02__"
   ]
  },
  {
   "cell_type": "markdown",
   "id": "ce78f794-4773-4210-bf0c-d89fd0e707f7",
   "metadata": {
    "id": "ce78f794-4773-4210-bf0c-d89fd0e707f7"
   },
   "source": [
    "# __Capítulo 2 - Desenvolvimento dos modelos de bielas e tirantes__ <a name=\"section_2\"></a>"
   ]
  },
  {
   "cell_type": "markdown",
   "id": "a8a51f34",
   "metadata": {},
   "source": [
    "## 2.1 - As regiões __B__ e __D__ das estruturas"
   ]
  },
  {
   "cell_type": "markdown",
   "id": "157432c3-c6ac-4105-b5b2-45e3ad381233",
   "metadata": {
    "id": "157432c3-c6ac-4105-b5b2-45e3ad381233"
   },
   "source": [
    "* As regiões de uma estrutura, nas quais a hipótese de Bernoulli de distribuição linear de deformações é válida, são projetadas com toda a precisão. Estas regiões são referenciadas como regiões __B__. \n",
    ". \n"
   ]
  },
  {
   "cell_type": "markdown",
   "id": "2c1f17c5",
   "metadata": {},
   "source": [
    "* A letra __B__ vem de Bernoulli, Beam (viga) e Bending theory (teoria de flexão). O estado interno de tensões é facilmente obtido dos esforços seccionais (momentos de flexão e de torção, esforço cortante e normal).\n"
   ]
  },
  {
   "cell_type": "markdown",
   "id": "44de5aac-973b-4f8c-80e4-d7ce8e9fdf69",
   "metadata": {
    "id": "44de5aac-973b-4f8c-80e4-d7ce8e9fdf69"
   },
   "source": [
    "* Enquanto a seção não está fissurada, as tensões são calculadas com o auxílio das propriedades da seção, como áreas e momentos de inércia. Quando as tensões de tração excedem a resistência à tração do concreto, o comportamento pode ser representado pelo modelo da treliça.\n"
   ]
  },
  {
   "cell_type": "markdown",
   "id": "8e9132cb",
   "metadata": {},
   "source": [
    "* Estes métodos não se aplicam a regiões de uma estrutura, onde a distribuição das deformações é significativamente não-linear, por exemplo, perto de cargas concentradas, aberturas e outras descontinuidades. Estas regiões são chamadas de regiões __D__. "
   ]
  },
  {
   "cell_type": "markdown",
   "id": "f2f917a9-9329-465e-8b58-b8da595961c7",
   "metadata": {
    "id": "f2f917a9-9329-465e-8b58-b8da595961c7"
   },
   "source": [
    "* A letra __D__ vem de Descontinuidade, Detalhe, Distúrbio, Deep beam (viga parede).\n"
   ]
  },
  {
   "cell_type": "markdown",
   "id": "4170d66f",
   "metadata": {},
   "source": [
    "* Enquanto estas regiões não estiverem fissuradas, podem ser analisadas por modelos elásticos lineares. Entretanto, se estas regiões estiverem fissuradas, só existiam procedimentos de projeto aceitáveis para um número pequeno de casos. O tratamento inadequado dado a estas regiões __D__ foi uma das principais razões de comportamento deficiente e mesmo de falha de estruturas.\n"
   ]
  },
  {
   "cell_type": "markdown",
   "id": "4687fbb6",
   "metadata": {},
   "source": [
    "* Utilizando-se o modelo de bielas e tirantes, deve-se, em primeiro lugar subdividir a estrutura em regiões __B__ e __D__. O modelo da treliça e os procedimentos de projeto para as regiões __B__ encontram-se bem estabelecidos e, somente, é necessário analisar e desenvolver o modelo de bielas e tirantes para as regiões __D__."
   ]
  },
  {
   "cell_type": "markdown",
   "id": "5ff56506",
   "metadata": {},
   "source": [
    "* O fluxo interno dos esforços nas regiões __D__ pode ser descrito pelos modelos das bielas e dos tirantes. Não é necessária muita precisão para dividir as regiões __B__ e __D__. Admite-se que a região __D__ se estende de uma distância _h_ para cada lado da descontinuidade, onde _h_ é igual a altura da região __B__ adjacente.\n"
   ]
  },
  {
   "cell_type": "markdown",
   "id": "409eacc5-78a9-47ea-93e9-3a7e9c3d8585",
   "metadata": {
    "id": "409eacc5-78a9-47ea-93e9-3a7e9c3d8585"
   },
   "source": [
    "* A Figura 2.1 mostra diversas delimitações de regiões __D__ (áreas sombreadas) com distribuição de deformações não-lineares por discontinuidades geométricas."
   ]
  },
  {
   "cell_type": "markdown",
   "id": "8db8160d",
   "metadata": {},
   "source": [
    "Figura 2.1 - Delimitação das regiões __D__ em estruturas com descontinuidades geométricas."
   ]
  },
  {
   "cell_type": "markdown",
   "id": "7e778b33",
   "metadata": {},
   "source": [
    "<img src=\"./images2/descontinuidade_geométrica.jpg\" alt=\"regiões D - descontinuidade geométrica\" style=\"width:600px\"/>"
   ]
  },
  {
   "cell_type": "markdown",
   "id": "411833a0",
   "metadata": {},
   "source": [
    "<font size=\"-1\">Fonte: SCHLAICH, J.; SCHÄFER, K. & JENNEWEIN, M.  Toward a Consistent Design of Structural Concrete.  PCI Journal, May-June, 1987. v. 32, n. 3, p.75-150 (adaptada)</font>"
   ]
  },
  {
   "cell_type": "markdown",
   "id": "84ce4b23",
   "metadata": {},
   "source": [
    "* A Figura 2.2 mostra diversas delimitações de regiões __D__ (áreas sombreadas) com distribuição de deformações não-lineares por discontinuidades estáticas."
   ]
  },
  {
   "cell_type": "markdown",
   "id": "b5fa7095",
   "metadata": {},
   "source": [
    "Figura 2.2 - Delimitação das regiões __D__ em estruturas com descontinuidades estáticas."
   ]
  },
  {
   "cell_type": "markdown",
   "id": "35588cc4",
   "metadata": {},
   "source": [
    "<img src=\"./images2/descontinuidade_estática.jpg\" alt=\"regiões D - descontinuidade estática\" style=\"width:600px\"/>"
   ]
  },
  {
   "cell_type": "markdown",
   "id": "21a81267",
   "metadata": {},
   "source": [
    "<font size=\"-1\">Fonte: SCHLAICH, J.; SCHÄFER, K. & JENNEWEIN, M.  Toward a Consistent Design of Structural Concrete.  PCI Journal, May-June, 1987. v. 32, n. 3, p.75-150 (adaptada)</font>"
   ]
  }
 ],
 "metadata": {
  "colab": {
   "name": "Capítulo_1.ipynb",
   "provenance": []
  },
  "kernelspec": {
   "display_name": "Python 3 (ipykernel)",
   "language": "python",
   "name": "python3"
  },
  "language_info": {
   "codemirror_mode": {
    "name": "ipython",
    "version": 3
   },
   "file_extension": ".py",
   "mimetype": "text/x-python",
   "name": "python",
   "nbconvert_exporter": "python",
   "pygments_lexer": "ipython3",
   "version": "3.10.9"
  }
 },
 "nbformat": 4,
 "nbformat_minor": 5
}
