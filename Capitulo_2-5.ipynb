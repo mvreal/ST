{
 "cells": [
  {
   "cell_type": "markdown",
   "id": "1dc445f3-8f0f-41b7-a0fa-541467a1d3db",
   "metadata": {
    "id": "1dc445f3-8f0f-41b7-a0fa-541467a1d3db"
   },
   "source": [
    "### Universidade Federal do Rio Grande do Sul - UFRGS"
   ]
  },
  {
   "cell_type": "markdown",
   "id": "27d28d81-ad30-4559-b52d-0fee9ac96cae",
   "metadata": {
    "id": "27d28d81-ad30-4559-b52d-0fee9ac96cae"
   },
   "source": [
    "### Escola de Engenharia - EE"
   ]
  },
  {
   "cell_type": "markdown",
   "id": "103a5401-6849-4ee0-a254-08a7f684a870",
   "metadata": {
    "id": "103a5401-6849-4ee0-a254-08a7f684a870"
   },
   "source": [
    "### Programa de Pós-graduação em Engenharia Civil - PPGEC"
   ]
  },
  {
   "cell_type": "markdown",
   "id": "547b79f5-d7a3-4b02-8ce9-7c1647bff36b",
   "metadata": {
    "id": "547b79f5-d7a3-4b02-8ce9-7c1647bff36b"
   },
   "source": [
    "### Disciplina: Tópicos avançados em concreto - PEC00013"
   ]
  },
  {
   "cell_type": "markdown",
   "id": "189e93bb-f3e5-4536-9aec-d09046d6929b",
   "metadata": {
    "id": "189e93bb-f3e5-4536-9aec-d09046d6929b"
   },
   "source": [
    "### Professor: Dr. Mauro de Vasconcellos Real"
   ]
  },
  {
   "cell_type": "markdown",
   "id": "9187878f-2f69-43a6-9e66-d91991265288",
   "metadata": {},
   "source": [
    "# __Aula 04__"
   ]
  },
  {
   "cell_type": "markdown",
   "id": "ce78f794-4773-4210-bf0c-d89fd0e707f7",
   "metadata": {
    "id": "ce78f794-4773-4210-bf0c-d89fd0e707f7"
   },
   "source": [
    "# __Capítulo 2 - Desenvolvimento dos modelos de bielas e tirantes__ <a name=\"section_2\"></a>"
   ]
  },
  {
   "cell_type": "markdown",
   "id": "a8a51f34",
   "metadata": {},
   "source": [
    "## 2.5 - Exemplos de modelos de bielas e tirantes\n",
    "\n",
    "* Neste item, apresenta-se uma série de modelos de bielas e de tirantes, desenvolvidos conforme apresentado anteriormente."
   ]
  },
  {
   "cell_type": "markdown",
   "id": "157432c3-c6ac-4105-b5b2-45e3ad381233",
   "metadata": {
    "id": "157432c3-c6ac-4105-b5b2-45e3ad381233"
   },
   "source": [
    "### 2.5.1 Dentes Gerber"
   ]
  },
  {
   "cell_type": "markdown",
   "id": "f73cd49d",
   "metadata": {},
   "source": [
    "* Na Figura 2.13 é mostrada a combinação de dois modelos para uma extremidade de viga Gerber, que é designada por \"dente Gerber\"."
   ]
  },
  {
   "cell_type": "markdown",
   "id": "5a76f80c",
   "metadata": {},
   "source": [
    "Figura 2.13 - Modelos de bielas e tirantes para um dente Gerber."
   ]
  },
  {
   "cell_type": "markdown",
   "id": "e874340b",
   "metadata": {},
   "source": [
    "<img src=\"./images2/dente-Gerber.jpg\" alt=\"modelo para dente Gerber\" style=\"width:600px\"/>"
   ]
  },
  {
   "cell_type": "markdown",
   "metadata": {},
   "source": [
    "<font size=\"-1\">Fonte: SCHLAICH, J.; SCHÄFER, K. & JENNEWEIN, M.  Toward a Consistent Design of Structural Concrete.  PCI Journal, May-June, 1987. v. 32, n. 3, p.75-150 (adaptada)</font>"
   ]
  },
  {
   "cell_type": "markdown",
   "id": "152cc7e7",
   "metadata": {},
   "source": [
    "### 2.5.2 - Abertura em laje \n",
    "\n",
    "* A Figura 2.14 mostra os modelos de bielas e tirantes para uma abertura em laje com momento fletor constante: (a) laje com abertura retangular, (b) modelo para a laje comprimida pela ação do momento fletor, (c) modelo para a laje tracionada pela ação do momento fletor. \n",
    "\n",
    "* Este é um caso típico que ocorrem em seções do tipo \"caixão\" em pontes."
   ]
  },
  {
   "cell_type": "markdown",
   "id": "181b67bd",
   "metadata": {},
   "source": [
    "Figura 2.14 - Modelo de bielas e tirantes para abertura em lajes."
   ]
  },
  {
   "cell_type": "markdown",
   "id": "ae2cbcd1",
   "metadata": {},
   "source": [
    "<img src=\"./images2/abertura-em-laje.jpg\" alt=\"abertura em laje de uma seção caixão\" style=\"width:600px\"/>"
   ]
  },
  {
   "cell_type": "markdown",
   "id": "0f5a1807",
   "metadata": {},
   "source": [
    "<font size=\"-1\">Fonte: SCHLAICH, J.; SCHÄFER, K. & JENNEWEIN, M.  Toward a Consistent Design of Structural Concrete.  PCI Journal, May-June, 1987. v. 32, n. 3, p.75-150 (adaptada)</font>"
   ]
  },
  {
   "cell_type": "markdown",
   "id": "2c1f17c5",
   "metadata": {},
   "source": [
    "### 2.5.3 - Nó de pórtico\n",
    "\n",
    "* A Figura 2.15 mostra diversos modelos de bielas e tirantes para diversos tipos de nós de pórtico:\n",
    "\n",
    "* (a), (b) modelo e armadura para pilar e viga com dimensões semelhantes;\n",
    "\n",
    "* (c), (d) modelo inadequado e armadura para pilar e viga com dimensões diferentes;\n",
    "\n",
    "* (e), (f) modelo adequado e armadura para pilar e viga com dimensões diferentes."
   ]
  },
  {
   "cell_type": "markdown",
   "id": "433d7353",
   "metadata": {},
   "source": [
    "Figura 2.15 - Modelos de bielas e tirantes para um nó de pórtico."
   ]
  },
  {
   "cell_type": "markdown",
   "id": "261e3847",
   "metadata": {},
   "source": [
    "<img src=\"./images2/nó-de-pórtico.jpg\" alt=\"modelos de bielas e tirantes para um nó de pórtico\" style=\"width:600px\"/>\n"
   ]
  },
  {
   "cell_type": "markdown",
   "id": "a83a9a72",
   "metadata": {},
   "source": [
    "<font size=\"-1\">Fonte: SCHLAICH, J.; SCHÄFER, K. & JENNEWEIN, M.  Toward a Consistent Design of Structural Concrete.  PCI Journal, May-June, 1987. v. 32, n. 3, p.75-150 (adaptada)</font>"
   ]
  },
  {
   "cell_type": "markdown",
   "id": "f2f917a9-9329-465e-8b58-b8da595961c7",
   "metadata": {
    "id": "f2f917a9-9329-465e-8b58-b8da595961c7"
   },
   "source": [
    "### 2.5.4 - Viga com abertura\n",
    "\n",
    "* A Figura 2.16 apresenta um modelo de bielas e tirantes para uma viga com uma abertura retangular: \n",
    "\n",
    "\n",
    "* (a) regiões B e D; \n",
    "\n",
    "* (b) forças no contorno das regiões junto a abertura;\n",
    "\n",
    "* (c) modelos de bielas e de tirantes para as regiões junto a abertura; \n",
    "\n",
    "* (d) esforços nos estribos;\n",
    "\n",
    "* (e) detalhamento da armadura. \n",
    "\n"
   ]
  },
  {
   "cell_type": "markdown",
   "id": "8e02ebf0",
   "metadata": {},
   "source": [
    "Figura 2.16 - Modelo de bielas e tirantes para uma viga com abertura retangular."
   ]
  },
  {
   "cell_type": "markdown",
   "id": "d87f0be8",
   "metadata": {},
   "source": [
    "<img src=\"./images2/viga-com-abertura.jpg\" alt=\"campo de tensões em prisma\" style=\"width:600px\"/>\n"
   ]
  },
  {
   "cell_type": "markdown",
   "id": "8353836d",
   "metadata": {},
   "source": [
    "<font size=\"-1\">Fonte: SCHLAICH, J.; SCHÄFER, K. & JENNEWEIN, M.  Toward a Consistent Design of Structural Concrete.  PCI Journal, May-June, 1987. v. 32, n. 3, p.75-150 (adaptada)</font>"
   ]
  },
  {
   "cell_type": "markdown",
   "id": "4687fbb6",
   "metadata": {},
   "source": [
    "### 5.4.5 - Consolos curtos\n",
    "\n",
    "* A Figura 2.17 reúne os modelos de bielas e tirantes para diversos tipos de consolos curtos.\n",
    "\n",
    "* Condições diferentes de apoio levam a diferentes modelos de bielas e de tirantes e diferentes detalhamentos de armadura para balanços curtos.\n",
    "\n",
    "Figura 2.17 - Modelos de bielas e tirantes para consolos curtos.\n",
    "\n",
    "<img src=\"./images2/consolos-curtos.jpg\" alt=\"modelos de bielas e tirantes para consolos curtos\" style=\"width:600px\"/>\n",
    "\n",
    "<font size=\"-1\">Fonte: SCHLAICH, J.; SCHÄFER, K. & JENNEWEIN, M.  Toward a Consistent Design of Structural Concrete.  PCI Journal, May-June, 1987. v. 32, n. 3, p.75-150 (adaptada)</font>"
   ]
  }
 ],
 "metadata": {
  "colab": {
   "name": "Capítulo_1.ipynb",
   "provenance": []
  },
  "kernelspec": {
   "display_name": "Python 3 (ipykernel)",
   "language": "python",
   "name": "python3"
  },
  "language_info": {
   "codemirror_mode": {
    "name": "ipython",
    "version": 3
   },
   "file_extension": ".py",
   "mimetype": "text/x-python",
   "name": "python",
   "nbconvert_exporter": "python",
   "pygments_lexer": "ipython3",
   "version": "3.10.9"
  }
 },
 "nbformat": 4,
 "nbformat_minor": 5
}
